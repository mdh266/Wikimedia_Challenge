{
 "cells": [
  {
   "cell_type": "markdown",
   "metadata": {},
   "source": [
    "# Wikimedia Data Challenge\n",
    "-------------------------------------------------------\n",
    "## Contents:\n",
    "--------------\n",
    "\n",
    "__[1. Introduction](#first-bullet)__\n",
    "\n",
    "__[2. Data Analysis](#second-bullet)__\n",
    "\n",
    "__[3.What The Average Daily Clickthrough Rates?](#third-bullet)__\n",
    "\n",
    "__[4. Which Results Do Clients Click First?](#fourth-bullet)__\n",
    "\n",
    "__[5. What Are The Daily Average Zero Results Rate?](#fifth-bullet)__\n",
    "\n",
    "__[6. What Factors Affect User Session Length?](#sixth-bullet)__\n",
    "\n",
    "__[7. Conclusion](#seventh-bullet)__\n",
    "\n",
    "\n",
    "The source code can be found <a href=\"https://github.com/mdh266/Wikimedia_Challenge\">here</a>.\n",
    "\n",
    "-------------------------------------------------------"
   ]
  },
  {
   "cell_type": "markdown",
   "metadata": {},
   "source": [
    "## Introduction <a class=\"anchor\" id=\"first-bullet\"></a>\n",
    "-------------------------------------------------------\n",
    "This Project was put out as data challenge by the <a href=\"https://wikimediafoundation.org/wiki/Home\">Wikimedia Foundation</a> for a data analyst position. I thought it would be a great opportunity to brush up on some data analysis tools in Pandas and decided to complete the challenge.\n",
    "\n",
    "\n",
    "The goal of the project was to analyze data from *event logging* (EL) to track a variety of performance and usage metrics to help the company make decisions. Specifically, they were interested in:\n",
    "\n",
    "- *clickthrough rate*: the proportion of search sessions where the user clicked on one of the results displayed\n",
    "\n",
    "- *zero results rate*: the proportion of searches that yielded 0 results\n",
    "\n",
    "EL uses JavaScript to asynchronously send messages (events) to their servers when the user has performed specific actions. \n",
    "\n",
    "-------------------------------------------------------\n",
    "### Data  <a class=\"anchor\" id=\"second-bullet\"></a>\n",
    "-------------------------------------------------------\n",
    "The dataset comes from a [tracking schema](3) that the Wikimedia Foundation uses for assessing user satisfaction. Desktop users are randomly sampled to be anonymously tracked by this schema which uses a \"I'm alive\" pinging system that we can use to estimate how long our users stay on the pages they visit. The dataset contains just a little more than a week of EL data.\n",
    "\n",
    "\n",
    "| Column          | Value   | Description                                                                       |\n",
    "|:----------------|:--------|:----------------------------------------------------------------------------------|\n",
    "| uuid            | string  | Universally unique identifier (UUID) for backend event handling.                  |\n",
    "| timestamp       | integer | The date and time (UTC) of the event, formatted as YYYYMMDDhhmmss.                |\n",
    "| session_id      | string  | A unique ID identifying individual sessions.                                      |\n",
    "| group           | string  | A label (\"a\" or \"b\").                                     |\n",
    "| action          | string  | Identifies in which the event was created. See below.                             |\n",
    "| checkin         | integer | How many seconds the page has been open for.                                      |\n",
    "| page_id         | string  | A unique identifier for correlating page visits and check-ins.                    |\n",
    "| n_results       | integer | Number of hits returned to the user. Only shown for searchResultPage events.      |\n",
    "| result_position | integer | The position of the visited page's link on the search engine results page (SERP). |\n",
    "\n",
    "The following are possible values for an event's action field:\n",
    "\n",
    "- **searchResultPage**: when a new search is performed and the user is shown a SERP.\n",
    "- **visitPage**: when the user clicks a link in the results.\n",
    "- **checkin**: when the user has remained on the page for a pre-specified amount of time.\n",
    "\n",
    "-------------------------------------------------------\n",
    "### Objectives\n",
    "-------------------------------------------------------\n",
    "\n",
    "The objectives of this project are to find answers to the following questions:\n",
    "\n",
    "1. What is their daily overall clickthrough rate? How does it vary between the groups?\n",
    "\n",
    "2. Which results do people tend to try first? How does it change day-to-day?\n",
    "\n",
    "3. What is their daily overall zero results rate? How does it vary between the groups?\n",
    "\n",
    "4. Let *session length* be approximately the time between the first event and the last event in a session. Choose a variable from the dataset and describe its relationship to session length. Visualize the relationship.\n",
    "\n",
    "\n",
    "\n",
    "We'll dive in to the analysis below, but first well read in some basic libraries as well as some functions which we will use.  The functions were defined outside this notebook can found on the <a href=\"https://github.com/mdh266/Wikimedia_Challenge\">GitHub repo</a>."
   ]
  },
  {
   "cell_type": "code",
   "execution_count": 1,
   "metadata": {},
   "outputs": [],
   "source": [
    "import pandas as pd\n",
    "import numpy as np\n",
    "import os.path\n",
    "import pandas as pd\n",
    "from itertools import chain\n",
    "import matplotlib.pyplot as plt\n",
    "from plotting_functions import (plot_grouped_and_ungrouped,\n",
    "                                plot_daily_clicked,\n",
    "                                plot_session_length_by_group,\n",
    "                                plot_session_length_by_group_percentages)\n",
    "\n",
    "from helper_functions import (searched_per_day_by_group,\n",
    "                              searched_per_day,\n",
    "                              average_click_through_rate,\n",
    "                              average_click_through_rate_by_group,\n",
    "                              average_zero_rate,\n",
    "                              average_zero_rate_by_group,\n",
    "                              get_sessions_with_n_results)\n",
    "import warnings\n",
    "warnings.filterwarnings('ignore')\n",
    "%matplotlib inline\n",
    "\n",
    "def read_in_data():\n",
    "    \"\"\"\n",
    "    This function does the following,\n",
    "    \n",
    "    1.) Reads in the csv file:\n",
    "    \n",
    "        'events_logs.csv'\n",
    "    \n",
    "    and set the index to be the timestamp and print its to a\n",
    "    new file called:\n",
    "        \n",
    "        'new_events_log.csv'\n",
    "        \n",
    "    2.) Then it just reads in'new_events_log.csv' and returns the\n",
    "    corresponding dataframe.\n",
    "    \n",
    "    If the file 'new_events_log.csv' already exists then only 2.) \n",
    "    is done.\n",
    "    \n",
    "    :return: Dataframe of the data.\n",
    "    \n",
    "    :rvalue: Pandas DataFrame.\n",
    "    \n",
    "    \"\"\"\n",
    "    # 1.\n",
    "    if os.path.isfile('new_events_log.csv') is False:\n",
    "        df = pd.read_csv(\"events_log.csv\")\n",
    "        df['timestamp'] = df['timestamp'].astype(int)\n",
    "        df.to_csv('new_events_log.csv')\n",
    "    \n",
    "    #2.) \n",
    "    df = pd.read_csv(\"new_events_log.csv\",\n",
    "                     parse_dates=['timestamp'], \n",
    "                     index_col='timestamp')\n",
    "    \n",
    "    # drop some extra column\n",
    "    df = df.drop('Unnamed: 0',axis=1)\n",
    "    \n",
    "    return df"
   ]
  },
  {
   "cell_type": "markdown",
   "metadata": {},
   "source": [
    "-------------------------------------------------------\n",
    "## Data Analysis <a class=\"anchor\" id=\"second-bullet\"></a>\n",
    "-------------------------------------------------------\n",
    "The data was provided in csv format in a file called, \"events_log.csv.\" When reading in the data I wanted to set the index of the dataframe to be a TimeStamp.  This can be achieved using the pandas command:\n",
    "\n",
    "    df = pd.read_csv(\"events_log.csv\",\n",
    "                     parse_dates=['timestamp'], \n",
    "                     index_col='timestamp')\n",
    "                  \n",
    "                  \n",
    "However, this would not work because the TimeStamp was being read in as an float in scientific notation and therefore wouldnt convert to DateTime properly. I was able to circumvent this by first reading in the dataframe as usual, then \n",
    "changing the timestamp variable to an integer with the command:\n",
    "    \n",
    "    df = pd.read_csv('events_log.csv')\n",
    "    df['timestamp'] = df['timestamp'].astype(int)\n",
    "\n",
    "I then wrote the dataframe to csv as \"new_events_log.csv\" and read it in again using the previous technique.  I wanted my code to work even if the person had download the original csv and not the new one.  So,  I wrote a function that did the above if \"new_events_log.csv\" doesn't exist, and if it did exist just read it in.   This is the funciton called below,"
   ]
  },
  {
   "cell_type": "code",
   "execution_count": 3,
   "metadata": {},
   "outputs": [],
   "source": [
    "df = read_in_data()"
   ]
  },
  {
   "cell_type": "markdown",
   "metadata": {},
   "source": [
    "I included this function specifically in this notebook since it run much faster when it was defined within the notebook then as an outside function.\n",
    "\n",
    "Now, we can get a basic look at our data by using the <code>info()</code> function:"
   ]
  },
  {
   "cell_type": "code",
   "execution_count": 4,
   "metadata": {},
   "outputs": [
    {
     "name": "stdout",
     "output_type": "stream",
     "text": [
      "<class 'pandas.core.frame.DataFrame'>\n",
      "DatetimeIndex: 400165 entries, 2016-03-01 10:38:42 to 2016-03-04 14:43:03\n",
      "Data columns (total 8 columns):\n",
      "uuid               400165 non-null object\n",
      "session_id         400165 non-null object\n",
      "group              400165 non-null object\n",
      "action             400165 non-null object\n",
      "checkin            223824 non-null float64\n",
      "page_id            400165 non-null object\n",
      "n_results          136234 non-null float64\n",
      "result_position    230482 non-null float64\n",
      "dtypes: float64(3), object(5)\n",
      "memory usage: 27.5+ MB\n"
     ]
    }
   ],
   "source": [
    "df.info()"
   ]
  },
  {
   "cell_type": "markdown",
   "metadata": {},
   "source": [
    "Let's get an idea of the number of sessions this takes into account for,"
   ]
  },
  {
   "cell_type": "code",
   "execution_count": 5,
   "metadata": {},
   "outputs": [
    {
     "name": "stdout",
     "output_type": "stream",
     "text": [
      "Number of sessions: 68028\n"
     ]
    }
   ],
   "source": [
    "session_ids = df.session_id.unique()\n",
    "print(\"Number of sessions: {}\".format(len(session_ids)))"
   ]
  },
  {
   "cell_type": "markdown",
   "metadata": {},
   "source": [
    "If we sort the dataframe by <code>session_id</code>, we can see how long each person stayed on a webpage,"
   ]
  },
  {
   "cell_type": "code",
   "execution_count": 7,
   "metadata": {},
   "outputs": [
    {
     "data": {
      "text/html": [
       "<div>\n",
       "<style scoped>\n",
       "    .dataframe tbody tr th:only-of-type {\n",
       "        vertical-align: middle;\n",
       "    }\n",
       "\n",
       "    .dataframe tbody tr th {\n",
       "        vertical-align: top;\n",
       "    }\n",
       "\n",
       "    .dataframe thead th {\n",
       "        text-align: right;\n",
       "    }\n",
       "</style>\n",
       "<table border=\"1\" class=\"dataframe\">\n",
       "  <thead>\n",
       "    <tr style=\"text-align: right;\">\n",
       "      <th></th>\n",
       "      <th>uuid</th>\n",
       "      <th>session_id</th>\n",
       "      <th>group</th>\n",
       "      <th>action</th>\n",
       "      <th>checkin</th>\n",
       "      <th>page_id</th>\n",
       "      <th>n_results</th>\n",
       "      <th>result_position</th>\n",
       "    </tr>\n",
       "    <tr>\n",
       "      <th>timestamp</th>\n",
       "      <th></th>\n",
       "      <th></th>\n",
       "      <th></th>\n",
       "      <th></th>\n",
       "      <th></th>\n",
       "      <th></th>\n",
       "      <th></th>\n",
       "      <th></th>\n",
       "    </tr>\n",
       "  </thead>\n",
       "  <tbody>\n",
       "    <tr>\n",
       "      <th>2016-03-03 15:20:45</th>\n",
       "      <td>e6f9280c8df5536490eb925a91979a3b</td>\n",
       "      <td>0000cbcb67c19c45</td>\n",
       "      <td>b</td>\n",
       "      <td>searchResultPage</td>\n",
       "      <td>NaN</td>\n",
       "      <td>fdeeb9aaf0130d41</td>\n",
       "      <td>20.0</td>\n",
       "      <td>NaN</td>\n",
       "    </tr>\n",
       "    <tr>\n",
       "      <th>2016-03-07 08:49:55</th>\n",
       "      <td>5b394c862bf657d98bcd25589a5247ac</td>\n",
       "      <td>0001382e027b2ea4</td>\n",
       "      <td>b</td>\n",
       "      <td>searchResultPage</td>\n",
       "      <td>NaN</td>\n",
       "      <td>7aa28c36c03380a0</td>\n",
       "      <td>18.0</td>\n",
       "      <td>NaN</td>\n",
       "    </tr>\n",
       "    <tr>\n",
       "      <th>2016-03-07 08:50:18</th>\n",
       "      <td>f01620582b615c03812cb1af2e804102</td>\n",
       "      <td>0001382e027b2ea4</td>\n",
       "      <td>b</td>\n",
       "      <td>checkin</td>\n",
       "      <td>20.0</td>\n",
       "      <td>f88793c95e778898</td>\n",
       "      <td>NaN</td>\n",
       "      <td>1.0</td>\n",
       "    </tr>\n",
       "    <tr>\n",
       "      <th>2016-03-07 08:51:28</th>\n",
       "      <td>fa6a1974487154aa95ddb93d8d5d3734</td>\n",
       "      <td>0001382e027b2ea4</td>\n",
       "      <td>b</td>\n",
       "      <td>checkin</td>\n",
       "      <td>90.0</td>\n",
       "      <td>f88793c95e778898</td>\n",
       "      <td>NaN</td>\n",
       "      <td>1.0</td>\n",
       "    </tr>\n",
       "    <tr>\n",
       "      <th>2016-03-07 08:53:28</th>\n",
       "      <td>70d367a1c60156c1b1723d1e4196a987</td>\n",
       "      <td>0001382e027b2ea4</td>\n",
       "      <td>b</td>\n",
       "      <td>checkin</td>\n",
       "      <td>210.0</td>\n",
       "      <td>f88793c95e778898</td>\n",
       "      <td>NaN</td>\n",
       "      <td>1.0</td>\n",
       "    </tr>\n",
       "  </tbody>\n",
       "</table>\n",
       "</div>"
      ],
      "text/plain": [
       "                                                 uuid        session_id group  \\\n",
       "timestamp                                                                       \n",
       "2016-03-03 15:20:45  e6f9280c8df5536490eb925a91979a3b  0000cbcb67c19c45     b   \n",
       "2016-03-07 08:49:55  5b394c862bf657d98bcd25589a5247ac  0001382e027b2ea4     b   \n",
       "2016-03-07 08:50:18  f01620582b615c03812cb1af2e804102  0001382e027b2ea4     b   \n",
       "2016-03-07 08:51:28  fa6a1974487154aa95ddb93d8d5d3734  0001382e027b2ea4     b   \n",
       "2016-03-07 08:53:28  70d367a1c60156c1b1723d1e4196a987  0001382e027b2ea4     b   \n",
       "\n",
       "                               action  checkin           page_id  n_results  \\\n",
       "timestamp                                                                     \n",
       "2016-03-03 15:20:45  searchResultPage      NaN  fdeeb9aaf0130d41       20.0   \n",
       "2016-03-07 08:49:55  searchResultPage      NaN  7aa28c36c03380a0       18.0   \n",
       "2016-03-07 08:50:18           checkin     20.0  f88793c95e778898        NaN   \n",
       "2016-03-07 08:51:28           checkin     90.0  f88793c95e778898        NaN   \n",
       "2016-03-07 08:53:28           checkin    210.0  f88793c95e778898        NaN   \n",
       "\n",
       "                     result_position  \n",
       "timestamp                             \n",
       "2016-03-03 15:20:45              NaN  \n",
       "2016-03-07 08:49:55              NaN  \n",
       "2016-03-07 08:50:18              1.0  \n",
       "2016-03-07 08:51:28              1.0  \n",
       "2016-03-07 08:53:28              1.0  "
      ]
     },
     "execution_count": 7,
     "metadata": {},
     "output_type": "execute_result"
    }
   ],
   "source": [
    "df.sort_values('session_id')\\\n",
    "  .head()\\\n",
    "  .sort_index()"
   ]
  },
  {
   "cell_type": "markdown",
   "metadata": {},
   "source": [
    "I dug deeper into looking at the data on my own, but won't show it because it's superfluous.  Instead, let's get into analyzing the data.  Instead lets get to answering the questions posed in the challenge."
   ]
  },
  {
   "cell_type": "markdown",
   "metadata": {},
   "source": [
    "### What The Average Daily Clickthrough Rates? <a class=\"anchor\" id=\"third-bullet\"></a>\n",
    "\n",
    "We first set out to understand what the average daily clickthrough rate of the users is, we can do this by first finding out how many people visit the website per day. \n",
    "In order to find this number on a per day basis, we have to first perform a <a href=\"http://pandas.pydata.org/pandas-docs/stable/groupby.html\">groupby</a> day,\n",
    "\n",
    "    df.groupby([pd.TimeGrouper('D')])\n",
    "    \n",
    "and then count the number of rows where a search was performed, i.e. when each rows has,\n",
    "\n",
    "    'action' = 'searchResultPage'\n",
    "\n",
    "We then need the number of people that visited a search result page on a daily basis.  We repeat the same groupby call, but now count the number of records where the corresponding rows have, \n",
    "\n",
    "    'action' == 'visitPage'\n",
    "\n",
    "We then take the two values for each day, divide them and take the average to get the average daily clickthrough rate.  This is what is completed in the function call, "
   ]
  },
  {
   "cell_type": "code",
   "execution_count": 8,
   "metadata": {},
   "outputs": [],
   "source": [
    "rate = average_click_through_rate(df)"
   ]
  },
  {
   "cell_type": "markdown",
   "metadata": {},
   "source": [
    "We also have to answer the same question on clickthrough rate, but this time taking into account the differences between 'group a' and 'group b'.  This can be achieved using the same procedure as before, but we group by day as well as the session 'group', i.e.\n",
    "\n",
    "    df.groupby([pd.TimeGrouper('D'),'group'])\n",
    "\n",
    "We then count the number of rows that have the different actions discussed previously.  This procedure is exactly what is done in the function, \n",
    "\n",
    "    average_click_through_rate_by_group(...) \n",
    "    \n",
    "The results of the grouped and ungrouped results are shown below:"
   ]
  },
  {
   "cell_type": "code",
   "execution_count": 9,
   "metadata": {},
   "outputs": [
    {
     "data": {
      "image/png": "[encoded data removed]",
      "text/plain": [
       "<Figure size 288x288 with 1 Axes>"
      ]
     },
     "metadata": {
      "needs_background": "light"
     },
     "output_type": "display_data"
    }
   ],
   "source": [
    "diff = average_click_through_rate_by_group(df)\n",
    "\n",
    "plot_grouped_and_ungrouped(diff, \n",
    "                           rate, \n",
    "                           \"Daily Clickthrough Rate\")"
   ]
  },
  {
   "cell_type": "markdown",
   "metadata": {},
   "source": [
    "We can see that the clickthrough rate of 'group a' is almost twice that of 'group b'."
   ]
  },
  {
   "cell_type": "markdown",
   "metadata": {},
   "source": [
    "-------------------------------------------------------\n",
    "### Which Results Do Clients Click First? <a class=\"anchor\" id=\"fourth-bullet\"></a>\n",
    "-------------------------------------------------------\n",
    "In order to figure out which links clients click first we have get the number of search result pages that were clicked on and group by day, <code>session_id</code> and <code>result_positon</code>.  We do this using the <a href=\"http://pandas.pydata.org/pandas-docs/stable/groupby.html\">groupby</a> Pandas call as well as filtering the rows by which rows includes a webpage that has been visited.  We can tell which page has been visited by getting the <code>result_position</code> of the page that was visisted. The groupby and filter call are below,"
   ]
  },
  {
   "cell_type": "code",
   "execution_count": 10,
   "metadata": {},
   "outputs": [],
   "source": [
    "clicked = df.groupby([pd.TimeGrouper('D'),'session_id','result_position'])\\\n",
    "            .apply(lambda row: len(row[row['result_position'] > 0]))"
   ]
  },
  {
   "cell_type": "code",
   "execution_count": 11,
   "metadata": {},
   "outputs": [
    {
     "data": {
      "text/plain": [
       "timestamp   session_id        result_position\n",
       "2016-03-01  001e2d0e159172d2  2.0                2\n",
       "            0024c4506bf92e1c  1.0                9\n",
       "            0029420a5f8c7d90  1.0                1\n",
       "            002b97995ca9ce77  3.0                2\n",
       "                              18.0               2\n",
       "dtype: int64"
      ]
     },
     "execution_count": 11,
     "metadata": {},
     "output_type": "execute_result"
    }
   ],
   "source": [
    "clicked.head()"
   ]
  },
  {
   "cell_type": "markdown",
   "metadata": {},
   "source": [
    "We note that the values in the series is the number of times that the <code>result_positon </code>appeared in the rows of the dataframe. We see that in session, <code>002b97995ca9ce77</code>, the user went to both the 3rd listed result and the 18th listed result. Let's take a look at the data for that session in chronological order:"
   ]
  },
  {
   "cell_type": "code",
   "execution_count": 12,
   "metadata": {},
   "outputs": [
    {
     "data": {
      "text/html": [
       "<div>\n",
       "<style scoped>\n",
       "    .dataframe tbody tr th:only-of-type {\n",
       "        vertical-align: middle;\n",
       "    }\n",
       "\n",
       "    .dataframe tbody tr th {\n",
       "        vertical-align: top;\n",
       "    }\n",
       "\n",
       "    .dataframe thead th {\n",
       "        text-align: right;\n",
       "    }\n",
       "</style>\n",
       "<table border=\"1\" class=\"dataframe\">\n",
       "  <thead>\n",
       "    <tr style=\"text-align: right;\">\n",
       "      <th></th>\n",
       "      <th>uuid</th>\n",
       "      <th>session_id</th>\n",
       "      <th>group</th>\n",
       "      <th>action</th>\n",
       "      <th>checkin</th>\n",
       "      <th>page_id</th>\n",
       "      <th>n_results</th>\n",
       "      <th>result_position</th>\n",
       "    </tr>\n",
       "    <tr>\n",
       "      <th>timestamp</th>\n",
       "      <th></th>\n",
       "      <th></th>\n",
       "      <th></th>\n",
       "      <th></th>\n",
       "      <th></th>\n",
       "      <th></th>\n",
       "      <th></th>\n",
       "      <th></th>\n",
       "    </tr>\n",
       "  </thead>\n",
       "  <tbody>\n",
       "    <tr>\n",
       "      <th>2016-03-01 06:56:58</th>\n",
       "      <td>8e154e03862750dca50374c05170fd0b</td>\n",
       "      <td>002b97995ca9ce77</td>\n",
       "      <td>a</td>\n",
       "      <td>searchResultPage</td>\n",
       "      <td>NaN</td>\n",
       "      <td>b9aef1d46f18a05c</td>\n",
       "      <td>20.0</td>\n",
       "      <td>NaN</td>\n",
       "    </tr>\n",
       "    <tr>\n",
       "      <th>2016-03-01 06:57:10</th>\n",
       "      <td>df81855edb66504e9ab1a3b3c8579c33</td>\n",
       "      <td>002b97995ca9ce77</td>\n",
       "      <td>a</td>\n",
       "      <td>visitPage</td>\n",
       "      <td>NaN</td>\n",
       "      <td>ed9547024a71f9f2</td>\n",
       "      <td>NaN</td>\n",
       "      <td>3.0</td>\n",
       "    </tr>\n",
       "    <tr>\n",
       "      <th>2016-03-01 06:57:20</th>\n",
       "      <td>afe45772a9c55a54a4dcd36f8e70faf3</td>\n",
       "      <td>002b97995ca9ce77</td>\n",
       "      <td>a</td>\n",
       "      <td>checkin</td>\n",
       "      <td>10.0</td>\n",
       "      <td>ed9547024a71f9f2</td>\n",
       "      <td>NaN</td>\n",
       "      <td>3.0</td>\n",
       "    </tr>\n",
       "    <tr>\n",
       "      <th>2016-03-01 06:57:25</th>\n",
       "      <td>62b963cbaca55a7fbd4c712832f19d36</td>\n",
       "      <td>002b97995ca9ce77</td>\n",
       "      <td>a</td>\n",
       "      <td>searchResultPage</td>\n",
       "      <td>NaN</td>\n",
       "      <td>374343e8ba419730</td>\n",
       "      <td>1.0</td>\n",
       "      <td>NaN</td>\n",
       "    </tr>\n",
       "    <tr>\n",
       "      <th>2016-03-01 06:57:30</th>\n",
       "      <td>6e9ae9a14484502596983c5ec9c9914d</td>\n",
       "      <td>002b97995ca9ce77</td>\n",
       "      <td>a</td>\n",
       "      <td>searchResultPage</td>\n",
       "      <td>NaN</td>\n",
       "      <td>60fda08472a6f1c5</td>\n",
       "      <td>20.0</td>\n",
       "      <td>NaN</td>\n",
       "    </tr>\n",
       "    <tr>\n",
       "      <th>2016-03-01 06:58:19</th>\n",
       "      <td>4c0f8453754257079692d2a55b4fe232</td>\n",
       "      <td>002b97995ca9ce77</td>\n",
       "      <td>a</td>\n",
       "      <td>visitPage</td>\n",
       "      <td>NaN</td>\n",
       "      <td>e59ec99472571d5c</td>\n",
       "      <td>NaN</td>\n",
       "      <td>18.0</td>\n",
       "    </tr>\n",
       "    <tr>\n",
       "      <th>2016-03-01 06:58:29</th>\n",
       "      <td>51b31a5a14855e1cbef3847a88fc1fb7</td>\n",
       "      <td>002b97995ca9ce77</td>\n",
       "      <td>a</td>\n",
       "      <td>checkin</td>\n",
       "      <td>10.0</td>\n",
       "      <td>e59ec99472571d5c</td>\n",
       "      <td>NaN</td>\n",
       "      <td>18.0</td>\n",
       "    </tr>\n",
       "  </tbody>\n",
       "</table>\n",
       "</div>"
      ],
      "text/plain": [
       "                                                 uuid        session_id group  \\\n",
       "timestamp                                                                       \n",
       "2016-03-01 06:56:58  8e154e03862750dca50374c05170fd0b  002b97995ca9ce77     a   \n",
       "2016-03-01 06:57:10  df81855edb66504e9ab1a3b3c8579c33  002b97995ca9ce77     a   \n",
       "2016-03-01 06:57:20  afe45772a9c55a54a4dcd36f8e70faf3  002b97995ca9ce77     a   \n",
       "2016-03-01 06:57:25  62b963cbaca55a7fbd4c712832f19d36  002b97995ca9ce77     a   \n",
       "2016-03-01 06:57:30  6e9ae9a14484502596983c5ec9c9914d  002b97995ca9ce77     a   \n",
       "2016-03-01 06:58:19  4c0f8453754257079692d2a55b4fe232  002b97995ca9ce77     a   \n",
       "2016-03-01 06:58:29  51b31a5a14855e1cbef3847a88fc1fb7  002b97995ca9ce77     a   \n",
       "\n",
       "                               action  checkin           page_id  n_results  \\\n",
       "timestamp                                                                     \n",
       "2016-03-01 06:56:58  searchResultPage      NaN  b9aef1d46f18a05c       20.0   \n",
       "2016-03-01 06:57:10         visitPage      NaN  ed9547024a71f9f2        NaN   \n",
       "2016-03-01 06:57:20           checkin     10.0  ed9547024a71f9f2        NaN   \n",
       "2016-03-01 06:57:25  searchResultPage      NaN  374343e8ba419730        1.0   \n",
       "2016-03-01 06:57:30  searchResultPage      NaN  60fda08472a6f1c5       20.0   \n",
       "2016-03-01 06:58:19         visitPage      NaN  e59ec99472571d5c        NaN   \n",
       "2016-03-01 06:58:29           checkin     10.0  e59ec99472571d5c        NaN   \n",
       "\n",
       "                     result_position  \n",
       "timestamp                             \n",
       "2016-03-01 06:56:58              NaN  \n",
       "2016-03-01 06:57:10              3.0  \n",
       "2016-03-01 06:57:20              3.0  \n",
       "2016-03-01 06:57:25              NaN  \n",
       "2016-03-01 06:57:30              NaN  \n",
       "2016-03-01 06:58:19             18.0  \n",
       "2016-03-01 06:58:29             18.0  "
      ]
     },
     "execution_count": 12,
     "metadata": {},
     "output_type": "execute_result"
    }
   ],
   "source": [
    "df[df.session_id == '002b97995ca9ce77'].sort_index()"
   ]
  },
  {
   "cell_type": "markdown",
   "metadata": {},
   "source": [
    "We can see that the person first checked out the 3rd result and then went back to the search results page and clicked on the 18th page.  We have to be careful that we only take the first result webpage the user clicked on in the analysis.  I did this by first filtering the dataframe to only included rows where the person was checkedin and then sorted by the <code>TimeStamp</code> (index):"
   ]
  },
  {
   "cell_type": "code",
   "execution_count": 13,
   "metadata": {},
   "outputs": [],
   "source": [
    "visited_pages = df[df.action == 'visitPage'].sort_index()"
   ]
  },
  {
   "cell_type": "markdown",
   "metadata": {},
   "source": [
    "Next we groupby the day and <code>session_id</code> and take the first result in the column corresponding to the <code>result_position</code> column.  Since the dataframe is sorted in chronological order we can assume that the result we get back is the first search result that the user clicked on:"
   ]
  },
  {
   "cell_type": "code",
   "execution_count": 14,
   "metadata": {},
   "outputs": [],
   "source": [
    "first_clicked = visited_pages.groupby([pd.TimeGrouper('D'),'session_id',], sort=True)['result_position']\\\n",
    "                             .first()"
   ]
  },
  {
   "cell_type": "markdown",
   "metadata": {},
   "source": [
    "We print out the first few reults to see what they like:"
   ]
  },
  {
   "cell_type": "code",
   "execution_count": 15,
   "metadata": {},
   "outputs": [
    {
     "data": {
      "text/plain": [
       "timestamp   session_id      \n",
       "2016-03-01  001e2d0e159172d2    2.0\n",
       "            0024c4506bf92e1c    1.0\n",
       "            0029420a5f8c7d90    1.0\n",
       "            002b97995ca9ce77    3.0\n",
       "            003037c8d3c3fe94    2.0\n",
       "Name: result_position, dtype: float64"
      ]
     },
     "execution_count": 15,
     "metadata": {},
     "output_type": "execute_result"
    }
   ],
   "source": [
    "first_clicked.head()"
   ]
  },
  {
   "cell_type": "markdown",
   "metadata": {},
   "source": [
    "As a sanity check we can see that the value for <code>session_id</code>, <code>002b97995ca9ce77</code>, is 3 which is what we expected.  \n",
    "\n",
    "\n",
    "Now we loop over the number of days and count the  <code>result_position</code>s of the pages that were first visited and order them by <code>result_position</code>.  We plot the daily results as bar graphs, taking the top 20 most clicked <code>result_position</code>s below:"
   ]
  },
  {
   "cell_type": "code",
   "execution_count": 16,
   "metadata": {},
   "outputs": [
    {
     "data": {
      "image/png": "[encoded data removed]",
      "text/plain": [
       "<Figure size 432x504 with 8 Axes>"
      ]
     },
     "metadata": {
      "needs_background": "light"
     },
     "output_type": "display_data"
    }
   ],
   "source": [
    "plot_daily_clicked(first_clicked, 20)"
   ]
  },
  {
   "cell_type": "markdown",
   "metadata": {},
   "source": [
    "The first thing we see is that the most frequently clicked is the first result listed and the number of click on the rest of the results drop exponentially with the rank of the listing. This makes sense as hopefully the first returned result is the most relevant. \n",
    "\n",
    "Another interesting thing to note is the number of clicks changes throughout the week.  The number of clicks on the first result seem to be around 2400-2500 for the first three days. On the fourth day they drop to 2300, then drop down to 1700 on the fifth day before recovering to 2000 on the 6th. The clickthrough rate of the first results returns to the 2400-2500 range on the seventh day and finally drops again to around 2200 on the eigth day. We can see that most days the first search results get about 2200-2500 clicks, but a noticable drop in click rate for the first search result occurs on the 5th day.  We can also see the same pattern occurs for the click rate on the second search result."
   ]
  },
  {
   "cell_type": "markdown",
   "metadata": {},
   "source": [
    "-------------------------------------------------------\n",
    "### What Are The Daily Average Zero Results Rate? <a class=\"anchor\" id=\"fifth-bullet\"></a>\n",
    "-------------------------------------------------------\n",
    "\n",
    "Now we are interested in the daily zero rates, that is the the number of searches that return zero results. We group the data by day as we did in Question 1. and then count the number of rows that have,\n",
    "\n",
    "    'n_results' == 0\n",
    "    \n",
    "and divide by the number of searches. This gives us the the zero rate for each day and is the done in the function:"
   ]
  },
  {
   "cell_type": "code",
   "execution_count": 17,
   "metadata": {},
   "outputs": [],
   "source": [
    "zero_rate = average_zero_rate(df)"
   ]
  },
  {
   "cell_type": "markdown",
   "metadata": {},
   "source": [
    "We now repeat the same process as above, but also group by the 'group', that is whether the session is in 'group a' or in 'group b'. This is done in the function,\n",
    "\n",
    "    average_zero_rate_by_group(...)\n",
    "    \n",
    "and we plot the results below,"
   ]
  },
  {
   "cell_type": "code",
   "execution_count": 18,
   "metadata": {},
   "outputs": [
    {
     "data": {
      "image/png": "[encoded data removed]",
      "text/plain": [
       "<Figure size 288x288 with 1 Axes>"
      ]
     },
     "metadata": {
      "needs_background": "light"
     },
     "output_type": "display_data"
    }
   ],
   "source": [
    "diff2 = average_zero_rate_by_group(df)\n",
    "plot_grouped_and_ungrouped(diff2, \n",
    "                           zero_rate, \n",
    "                           'Average Daily Zero Rate By Group')"
   ]
  },
  {
   "cell_type": "markdown",
   "metadata": {
    "collapsed": true
   },
   "source": [
    "We can see that the average zero rate is much higher in group b than group a, its almost twice the rate in group a.  This makes sense, since group b has a smaller clickthrough rate and having zero search results would definitely result in less clickthroughs."
   ]
  },
  {
   "cell_type": "markdown",
   "metadata": {},
   "source": [
    "-------------------------------------------------------\n",
    "### What Factors Affect User Session Length? <a class=\"anchor\" id=\"sixth-bullet\"></a>\n",
    "-------------------------------------------------------\n",
    "Now we want to look into the session length and what factors may affect it.\n",
    "\n",
    "We first get the start time of each session by grouping by <code>session_id</code> and taking the first row.  We have to use the command, <code>nth(0)</code> instead of <code>first()</code>, because of issues with <code>first()</code> dropping cases that have <code>NaN</code> as values.  We drop the <code>uuid</code> column since it seems like useless information and pushes the dataframe off the screen when I print it.  The last thing I will mention is that we use <code>as_index = False</code> in the <code>groupby(...)</code> call so that we get keep the original index and a Pandas DataFrame is returned instead of Pandas Series:"
   ]
  },
  {
   "cell_type": "code",
   "execution_count": 21,
   "metadata": {},
   "outputs": [
    {
     "data": {
      "text/html": [
       "<div>\n",
       "<style scoped>\n",
       "    .dataframe tbody tr th:only-of-type {\n",
       "        vertical-align: middle;\n",
       "    }\n",
       "\n",
       "    .dataframe tbody tr th {\n",
       "        vertical-align: top;\n",
       "    }\n",
       "\n",
       "    .dataframe thead th {\n",
       "        text-align: right;\n",
       "    }\n",
       "</style>\n",
       "<table border=\"1\" class=\"dataframe\">\n",
       "  <thead>\n",
       "    <tr style=\"text-align: right;\">\n",
       "      <th></th>\n",
       "      <th>session_id</th>\n",
       "      <th>group</th>\n",
       "      <th>action</th>\n",
       "      <th>checkin</th>\n",
       "      <th>page_id</th>\n",
       "      <th>n_results</th>\n",
       "      <th>result_position</th>\n",
       "    </tr>\n",
       "    <tr>\n",
       "      <th>timestamp</th>\n",
       "      <th></th>\n",
       "      <th></th>\n",
       "      <th></th>\n",
       "      <th></th>\n",
       "      <th></th>\n",
       "      <th></th>\n",
       "      <th></th>\n",
       "    </tr>\n",
       "  </thead>\n",
       "  <tbody>\n",
       "    <tr>\n",
       "      <th>2016-03-03 15:20:45</th>\n",
       "      <td>0000cbcb67c19c45</td>\n",
       "      <td>b</td>\n",
       "      <td>searchResultPage</td>\n",
       "      <td>NaN</td>\n",
       "      <td>fdeeb9aaf0130d41</td>\n",
       "      <td>20.0</td>\n",
       "      <td>NaN</td>\n",
       "    </tr>\n",
       "    <tr>\n",
       "      <th>2016-03-07 08:49:55</th>\n",
       "      <td>0001382e027b2ea4</td>\n",
       "      <td>b</td>\n",
       "      <td>searchResultPage</td>\n",
       "      <td>NaN</td>\n",
       "      <td>7aa28c36c03380a0</td>\n",
       "      <td>18.0</td>\n",
       "      <td>NaN</td>\n",
       "    </tr>\n",
       "    <tr>\n",
       "      <th>2016-03-05 09:24:15</th>\n",
       "      <td>0001e8bb90445cb2</td>\n",
       "      <td>b</td>\n",
       "      <td>searchResultPage</td>\n",
       "      <td>NaN</td>\n",
       "      <td>6b7f8832f5b6cc7d</td>\n",
       "      <td>20.0</td>\n",
       "      <td>NaN</td>\n",
       "    </tr>\n",
       "    <tr>\n",
       "      <th>2016-03-08 16:19:46</th>\n",
       "      <td>000216cf18ae1ab1</td>\n",
       "      <td>a</td>\n",
       "      <td>searchResultPage</td>\n",
       "      <td>NaN</td>\n",
       "      <td>08cebdafafbe069a</td>\n",
       "      <td>20.0</td>\n",
       "      <td>NaN</td>\n",
       "    </tr>\n",
       "    <tr>\n",
       "      <th>2016-03-08 05:33:00</th>\n",
       "      <td>000527f711d50dfc</td>\n",
       "      <td>b</td>\n",
       "      <td>searchResultPage</td>\n",
       "      <td>NaN</td>\n",
       "      <td>41a14a053b06af6c</td>\n",
       "      <td>1.0</td>\n",
       "      <td>NaN</td>\n",
       "    </tr>\n",
       "  </tbody>\n",
       "</table>\n",
       "</div>"
      ],
      "text/plain": [
       "                           session_id group            action  checkin  \\\n",
       "timestamp                                                                \n",
       "2016-03-03 15:20:45  0000cbcb67c19c45     b  searchResultPage      NaN   \n",
       "2016-03-07 08:49:55  0001382e027b2ea4     b  searchResultPage      NaN   \n",
       "2016-03-05 09:24:15  0001e8bb90445cb2     b  searchResultPage      NaN   \n",
       "2016-03-08 16:19:46  000216cf18ae1ab1     a  searchResultPage      NaN   \n",
       "2016-03-08 05:33:00  000527f711d50dfc     b  searchResultPage      NaN   \n",
       "\n",
       "                              page_id  n_results  result_position  \n",
       "timestamp                                                          \n",
       "2016-03-03 15:20:45  fdeeb9aaf0130d41       20.0              NaN  \n",
       "2016-03-07 08:49:55  7aa28c36c03380a0       18.0              NaN  \n",
       "2016-03-05 09:24:15  6b7f8832f5b6cc7d       20.0              NaN  \n",
       "2016-03-08 16:19:46  08cebdafafbe069a       20.0              NaN  \n",
       "2016-03-08 05:33:00  41a14a053b06af6c        1.0              NaN  "
      ]
     },
     "execution_count": 21,
     "metadata": {},
     "output_type": "execute_result"
    }
   ],
   "source": [
    "session_begin = df.sort_index()\\\n",
    "                  .groupby(['session_id'], sort=True, as_index=False)\\\n",
    "                  .nth(0)\\\n",
    "                  .drop('uuid',axis=1)\n",
    "\n",
    "session_begin.sort_values('session_id')\\\n",
    "             .head()"
   ]
  },
  {
   "cell_type": "markdown",
   "metadata": {},
   "source": [
    "Now, I'm going to do a sanity check by looing at the session <code>0001382e027b2ea4</code> and making sure that the first TimeStamp is the same as the one above."
   ]
  },
  {
   "cell_type": "code",
   "execution_count": 22,
   "metadata": {},
   "outputs": [
    {
     "data": {
      "text/html": [
       "<div>\n",
       "<style scoped>\n",
       "    .dataframe tbody tr th:only-of-type {\n",
       "        vertical-align: middle;\n",
       "    }\n",
       "\n",
       "    .dataframe tbody tr th {\n",
       "        vertical-align: top;\n",
       "    }\n",
       "\n",
       "    .dataframe thead th {\n",
       "        text-align: right;\n",
       "    }\n",
       "</style>\n",
       "<table border=\"1\" class=\"dataframe\">\n",
       "  <thead>\n",
       "    <tr style=\"text-align: right;\">\n",
       "      <th></th>\n",
       "      <th>session_id</th>\n",
       "      <th>group</th>\n",
       "      <th>action</th>\n",
       "      <th>checkin</th>\n",
       "      <th>page_id</th>\n",
       "      <th>n_results</th>\n",
       "      <th>result_position</th>\n",
       "    </tr>\n",
       "    <tr>\n",
       "      <th>timestamp</th>\n",
       "      <th></th>\n",
       "      <th></th>\n",
       "      <th></th>\n",
       "      <th></th>\n",
       "      <th></th>\n",
       "      <th></th>\n",
       "      <th></th>\n",
       "    </tr>\n",
       "  </thead>\n",
       "  <tbody>\n",
       "    <tr>\n",
       "      <th>2016-03-07 08:49:55</th>\n",
       "      <td>0001382e027b2ea4</td>\n",
       "      <td>b</td>\n",
       "      <td>searchResultPage</td>\n",
       "      <td>NaN</td>\n",
       "      <td>7aa28c36c03380a0</td>\n",
       "      <td>18.0</td>\n",
       "      <td>NaN</td>\n",
       "    </tr>\n",
       "    <tr>\n",
       "      <th>2016-03-07 08:49:58</th>\n",
       "      <td>0001382e027b2ea4</td>\n",
       "      <td>b</td>\n",
       "      <td>visitPage</td>\n",
       "      <td>NaN</td>\n",
       "      <td>f88793c95e778898</td>\n",
       "      <td>NaN</td>\n",
       "      <td>1.0</td>\n",
       "    </tr>\n",
       "    <tr>\n",
       "      <th>2016-03-07 08:50:08</th>\n",
       "      <td>0001382e027b2ea4</td>\n",
       "      <td>b</td>\n",
       "      <td>checkin</td>\n",
       "      <td>10.0</td>\n",
       "      <td>f88793c95e778898</td>\n",
       "      <td>NaN</td>\n",
       "      <td>1.0</td>\n",
       "    </tr>\n",
       "    <tr>\n",
       "      <th>2016-03-07 08:50:18</th>\n",
       "      <td>0001382e027b2ea4</td>\n",
       "      <td>b</td>\n",
       "      <td>checkin</td>\n",
       "      <td>20.0</td>\n",
       "      <td>f88793c95e778898</td>\n",
       "      <td>NaN</td>\n",
       "      <td>1.0</td>\n",
       "    </tr>\n",
       "    <tr>\n",
       "      <th>2016-03-07 08:50:28</th>\n",
       "      <td>0001382e027b2ea4</td>\n",
       "      <td>b</td>\n",
       "      <td>checkin</td>\n",
       "      <td>30.0</td>\n",
       "      <td>f88793c95e778898</td>\n",
       "      <td>NaN</td>\n",
       "      <td>1.0</td>\n",
       "    </tr>\n",
       "  </tbody>\n",
       "</table>\n",
       "</div>"
      ],
      "text/plain": [
       "                           session_id group            action  checkin  \\\n",
       "timestamp                                                                \n",
       "2016-03-07 08:49:55  0001382e027b2ea4     b  searchResultPage      NaN   \n",
       "2016-03-07 08:49:58  0001382e027b2ea4     b         visitPage      NaN   \n",
       "2016-03-07 08:50:08  0001382e027b2ea4     b           checkin     10.0   \n",
       "2016-03-07 08:50:18  0001382e027b2ea4     b           checkin     20.0   \n",
       "2016-03-07 08:50:28  0001382e027b2ea4     b           checkin     30.0   \n",
       "\n",
       "                              page_id  n_results  result_position  \n",
       "timestamp                                                          \n",
       "2016-03-07 08:49:55  7aa28c36c03380a0       18.0              NaN  \n",
       "2016-03-07 08:49:58  f88793c95e778898        NaN              1.0  \n",
       "2016-03-07 08:50:08  f88793c95e778898        NaN              1.0  \n",
       "2016-03-07 08:50:18  f88793c95e778898        NaN              1.0  \n",
       "2016-03-07 08:50:28  f88793c95e778898        NaN              1.0  "
      ]
     },
     "execution_count": 22,
     "metadata": {},
     "output_type": "execute_result"
    }
   ],
   "source": [
    "test_session = df[df.session_id == '0001382e027b2ea4'].sort_index()\\\n",
    "                                                      .drop('uuid',axis=1)\n",
    "test_session.head()"
   ]
  },
  {
   "cell_type": "markdown",
   "metadata": {},
   "source": [
    "Our simple test was a success!\n",
    "\n",
    "\n",
    "In order to get the correct answer for the last TimeStamp of each session, I had to drop the <code>page_id</code> column, I'm not 100% confident as to why this was necessary, but I think it has to do with the issues of <code>NaNs</code>."
   ]
  },
  {
   "cell_type": "code",
   "execution_count": 23,
   "metadata": {},
   "outputs": [],
   "source": [
    "df2 = df.drop(['uuid','page_id'], axis=1)\\\n",
    "        .sort_index()"
   ]
  },
  {
   "cell_type": "markdown",
   "metadata": {},
   "source": [
    "Now we do the same thing as previous for <code>session_begin</code>, but add take the <code>nth(-1)</code> instead of using <code>last()</code> because of issues with <code>last()</code> dropping cases with <code>NaNs</code>."
   ]
  },
  {
   "cell_type": "code",
   "execution_count": 24,
   "metadata": {},
   "outputs": [
    {
     "data": {
      "text/html": [
       "<div>\n",
       "<style scoped>\n",
       "    .dataframe tbody tr th:only-of-type {\n",
       "        vertical-align: middle;\n",
       "    }\n",
       "\n",
       "    .dataframe tbody tr th {\n",
       "        vertical-align: top;\n",
       "    }\n",
       "\n",
       "    .dataframe thead th {\n",
       "        text-align: right;\n",
       "    }\n",
       "</style>\n",
       "<table border=\"1\" class=\"dataframe\">\n",
       "  <thead>\n",
       "    <tr style=\"text-align: right;\">\n",
       "      <th></th>\n",
       "      <th>session_id</th>\n",
       "      <th>group</th>\n",
       "      <th>action</th>\n",
       "      <th>checkin</th>\n",
       "      <th>n_results</th>\n",
       "      <th>result_position</th>\n",
       "    </tr>\n",
       "    <tr>\n",
       "      <th>timestamp</th>\n",
       "      <th></th>\n",
       "      <th></th>\n",
       "      <th></th>\n",
       "      <th></th>\n",
       "      <th></th>\n",
       "      <th></th>\n",
       "    </tr>\n",
       "  </thead>\n",
       "  <tbody>\n",
       "    <tr>\n",
       "      <th>2016-03-03 15:20:45</th>\n",
       "      <td>0000cbcb67c19c45</td>\n",
       "      <td>b</td>\n",
       "      <td>searchResultPage</td>\n",
       "      <td>NaN</td>\n",
       "      <td>20.0</td>\n",
       "      <td>NaN</td>\n",
       "    </tr>\n",
       "    <tr>\n",
       "      <th>2016-03-07 08:54:58</th>\n",
       "      <td>0001382e027b2ea4</td>\n",
       "      <td>b</td>\n",
       "      <td>checkin</td>\n",
       "      <td>300.0</td>\n",
       "      <td>NaN</td>\n",
       "      <td>1.0</td>\n",
       "    </tr>\n",
       "    <tr>\n",
       "      <th>2016-03-05 09:31:30</th>\n",
       "      <td>0001e8bb90445cb2</td>\n",
       "      <td>b</td>\n",
       "      <td>checkin</td>\n",
       "      <td>420.0</td>\n",
       "      <td>NaN</td>\n",
       "      <td>1.0</td>\n",
       "    </tr>\n",
       "    <tr>\n",
       "      <th>2016-03-08 16:20:44</th>\n",
       "      <td>000216cf18ae1ab1</td>\n",
       "      <td>a</td>\n",
       "      <td>searchResultPage</td>\n",
       "      <td>NaN</td>\n",
       "      <td>20.0</td>\n",
       "      <td>NaN</td>\n",
       "    </tr>\n",
       "    <tr>\n",
       "      <th>2016-03-08 05:33:00</th>\n",
       "      <td>000527f711d50dfc</td>\n",
       "      <td>b</td>\n",
       "      <td>searchResultPage</td>\n",
       "      <td>NaN</td>\n",
       "      <td>1.0</td>\n",
       "      <td>NaN</td>\n",
       "    </tr>\n",
       "  </tbody>\n",
       "</table>\n",
       "</div>"
      ],
      "text/plain": [
       "                           session_id group            action  checkin  \\\n",
       "timestamp                                                                \n",
       "2016-03-03 15:20:45  0000cbcb67c19c45     b  searchResultPage      NaN   \n",
       "2016-03-07 08:54:58  0001382e027b2ea4     b           checkin    300.0   \n",
       "2016-03-05 09:31:30  0001e8bb90445cb2     b           checkin    420.0   \n",
       "2016-03-08 16:20:44  000216cf18ae1ab1     a  searchResultPage      NaN   \n",
       "2016-03-08 05:33:00  000527f711d50dfc     b  searchResultPage      NaN   \n",
       "\n",
       "                     n_results  result_position  \n",
       "timestamp                                        \n",
       "2016-03-03 15:20:45       20.0              NaN  \n",
       "2016-03-07 08:54:58        NaN              1.0  \n",
       "2016-03-05 09:31:30        NaN              1.0  \n",
       "2016-03-08 16:20:44       20.0              NaN  \n",
       "2016-03-08 05:33:00        1.0              NaN  "
      ]
     },
     "execution_count": 24,
     "metadata": {},
     "output_type": "execute_result"
    }
   ],
   "source": [
    "session_end = df2.groupby(['session_id'], sort=True,as_index=False)\\\n",
    "                .nth(-1)\n",
    "    \n",
    "session_end.sort_values('session_id')\\\n",
    "           .head()"
   ]
  },
  {
   "cell_type": "markdown",
   "metadata": {},
   "source": [
    "Now we perfrom another sanity check to make sure that the timestamp above for <code>session_id=0001382e027b2ea4</code> is the same as the last timestamp in the <code>test_session</code>:"
   ]
  },
  {
   "cell_type": "code",
   "execution_count": 25,
   "metadata": {},
   "outputs": [
    {
     "data": {
      "text/html": [
       "<div>\n",
       "<style scoped>\n",
       "    .dataframe tbody tr th:only-of-type {\n",
       "        vertical-align: middle;\n",
       "    }\n",
       "\n",
       "    .dataframe tbody tr th {\n",
       "        vertical-align: top;\n",
       "    }\n",
       "\n",
       "    .dataframe thead th {\n",
       "        text-align: right;\n",
       "    }\n",
       "</style>\n",
       "<table border=\"1\" class=\"dataframe\">\n",
       "  <thead>\n",
       "    <tr style=\"text-align: right;\">\n",
       "      <th></th>\n",
       "      <th>session_id</th>\n",
       "      <th>group</th>\n",
       "      <th>action</th>\n",
       "      <th>checkin</th>\n",
       "      <th>page_id</th>\n",
       "      <th>n_results</th>\n",
       "      <th>result_position</th>\n",
       "    </tr>\n",
       "    <tr>\n",
       "      <th>timestamp</th>\n",
       "      <th></th>\n",
       "      <th></th>\n",
       "      <th></th>\n",
       "      <th></th>\n",
       "      <th></th>\n",
       "      <th></th>\n",
       "      <th></th>\n",
       "    </tr>\n",
       "  </thead>\n",
       "  <tbody>\n",
       "    <tr>\n",
       "      <th>2016-03-07 08:52:28</th>\n",
       "      <td>0001382e027b2ea4</td>\n",
       "      <td>b</td>\n",
       "      <td>checkin</td>\n",
       "      <td>150.0</td>\n",
       "      <td>f88793c95e778898</td>\n",
       "      <td>NaN</td>\n",
       "      <td>1.0</td>\n",
       "    </tr>\n",
       "    <tr>\n",
       "      <th>2016-03-07 08:52:58</th>\n",
       "      <td>0001382e027b2ea4</td>\n",
       "      <td>b</td>\n",
       "      <td>checkin</td>\n",
       "      <td>180.0</td>\n",
       "      <td>f88793c95e778898</td>\n",
       "      <td>NaN</td>\n",
       "      <td>1.0</td>\n",
       "    </tr>\n",
       "    <tr>\n",
       "      <th>2016-03-07 08:53:28</th>\n",
       "      <td>0001382e027b2ea4</td>\n",
       "      <td>b</td>\n",
       "      <td>checkin</td>\n",
       "      <td>210.0</td>\n",
       "      <td>f88793c95e778898</td>\n",
       "      <td>NaN</td>\n",
       "      <td>1.0</td>\n",
       "    </tr>\n",
       "    <tr>\n",
       "      <th>2016-03-07 08:53:58</th>\n",
       "      <td>0001382e027b2ea4</td>\n",
       "      <td>b</td>\n",
       "      <td>checkin</td>\n",
       "      <td>240.0</td>\n",
       "      <td>f88793c95e778898</td>\n",
       "      <td>NaN</td>\n",
       "      <td>1.0</td>\n",
       "    </tr>\n",
       "    <tr>\n",
       "      <th>2016-03-07 08:54:58</th>\n",
       "      <td>0001382e027b2ea4</td>\n",
       "      <td>b</td>\n",
       "      <td>checkin</td>\n",
       "      <td>300.0</td>\n",
       "      <td>f88793c95e778898</td>\n",
       "      <td>NaN</td>\n",
       "      <td>1.0</td>\n",
       "    </tr>\n",
       "  </tbody>\n",
       "</table>\n",
       "</div>"
      ],
      "text/plain": [
       "                           session_id group   action  checkin  \\\n",
       "timestamp                                                       \n",
       "2016-03-07 08:52:28  0001382e027b2ea4     b  checkin    150.0   \n",
       "2016-03-07 08:52:58  0001382e027b2ea4     b  checkin    180.0   \n",
       "2016-03-07 08:53:28  0001382e027b2ea4     b  checkin    210.0   \n",
       "2016-03-07 08:53:58  0001382e027b2ea4     b  checkin    240.0   \n",
       "2016-03-07 08:54:58  0001382e027b2ea4     b  checkin    300.0   \n",
       "\n",
       "                              page_id  n_results  result_position  \n",
       "timestamp                                                          \n",
       "2016-03-07 08:52:28  f88793c95e778898        NaN              1.0  \n",
       "2016-03-07 08:52:58  f88793c95e778898        NaN              1.0  \n",
       "2016-03-07 08:53:28  f88793c95e778898        NaN              1.0  \n",
       "2016-03-07 08:53:58  f88793c95e778898        NaN              1.0  \n",
       "2016-03-07 08:54:58  f88793c95e778898        NaN              1.0  "
      ]
     },
     "execution_count": 25,
     "metadata": {},
     "output_type": "execute_result"
    }
   ],
   "source": [
    "test_session.tail()"
   ]
  },
  {
   "cell_type": "markdown",
   "metadata": {},
   "source": [
    "It worked!  \n",
    "\n",
    "So, now lets get the the start time of each session by creating a new column in the <code>session_begin</code> that strips the time from the index of the old dataframe, but we want to convert the Pandas TimeStamp objects into Python <a href=\"https://docs.python.org/2/library/datetime.html\">DateTime</a> objects. We use the <a href=\"http://pandas.pydata.org/pandas-docs/stable/generated/pandas.to_datetime.html\">to_pydatetime()</a> to do this:"
   ]
  },
  {
   "cell_type": "code",
   "execution_count": 26,
   "metadata": {},
   "outputs": [],
   "source": [
    "session_begin['time'] = session_begin.index.to_pydatetime()"
   ]
  },
  {
   "cell_type": "markdown",
   "metadata": {},
   "source": [
    "Now we drop the TimeStamp as the index and drop the <code>checkin</code> column since that will be irrellevant and depends on the action."
   ]
  },
  {
   "cell_type": "code",
   "execution_count": 27,
   "metadata": {},
   "outputs": [],
   "source": [
    "session_begin = session_begin.reset_index()\\\n",
    "                             .drop(['timestamp','checkin'],axis=1)"
   ]
  },
  {
   "cell_type": "markdown",
   "metadata": {
    "collapsed": true
   },
   "source": [
    "Let's repeat the same process, but for <code>session_end</code>:"
   ]
  },
  {
   "cell_type": "code",
   "execution_count": 28,
   "metadata": {},
   "outputs": [],
   "source": [
    "session_end['time'] = session_end.index.to_pydatetime()\n",
    "\n",
    "session_end = session_end.reset_index()\\\n",
    "                         .drop(['timestamp','checkin'], axis=1)"
   ]
  },
  {
   "cell_type": "markdown",
   "metadata": {},
   "source": [
    "Now we can <a href=\"http://pandas.pydata.org/pandas-docs/stable/generated/pandas.DataFrame.merge.html\">\n",
    "merge</a> the two pandas dataframes into one:"
   ]
  },
  {
   "cell_type": "code",
   "execution_count": 29,
   "metadata": {
    "scrolled": true
   },
   "outputs": [
    {
     "data": {
      "text/html": [
       "<div>\n",
       "<style scoped>\n",
       "    .dataframe tbody tr th:only-of-type {\n",
       "        vertical-align: middle;\n",
       "    }\n",
       "\n",
       "    .dataframe tbody tr th {\n",
       "        vertical-align: top;\n",
       "    }\n",
       "\n",
       "    .dataframe thead th {\n",
       "        text-align: right;\n",
       "    }\n",
       "</style>\n",
       "<table border=\"1\" class=\"dataframe\">\n",
       "  <thead>\n",
       "    <tr style=\"text-align: right;\">\n",
       "      <th></th>\n",
       "      <th>session_id</th>\n",
       "      <th>group_start</th>\n",
       "      <th>action_start</th>\n",
       "      <th>page_id</th>\n",
       "      <th>n_results_start</th>\n",
       "      <th>result_position_start</th>\n",
       "      <th>time_start</th>\n",
       "      <th>group_end</th>\n",
       "      <th>action_end</th>\n",
       "      <th>n_results_end</th>\n",
       "      <th>result_position_end</th>\n",
       "      <th>time_end</th>\n",
       "    </tr>\n",
       "  </thead>\n",
       "  <tbody>\n",
       "    <tr>\n",
       "      <th>0</th>\n",
       "      <td>cbba9a98ba7b20cc</td>\n",
       "      <td>a</td>\n",
       "      <td>checkin</td>\n",
       "      <td>f79f531304a265f8</td>\n",
       "      <td>NaN</td>\n",
       "      <td>4.0</td>\n",
       "      <td>2016-03-01 00:00:01</td>\n",
       "      <td>a</td>\n",
       "      <td>searchResultPage</td>\n",
       "      <td>20.0</td>\n",
       "      <td>NaN</td>\n",
       "      <td>2016-03-01 00:00:17</td>\n",
       "    </tr>\n",
       "    <tr>\n",
       "      <th>1</th>\n",
       "      <td>c1f0f8499c6655cd</td>\n",
       "      <td>b</td>\n",
       "      <td>checkin</td>\n",
       "      <td>88bebe600b777ea9</td>\n",
       "      <td>NaN</td>\n",
       "      <td>NaN</td>\n",
       "      <td>2016-03-01 00:00:02</td>\n",
       "      <td>b</td>\n",
       "      <td>checkin</td>\n",
       "      <td>NaN</td>\n",
       "      <td>NaN</td>\n",
       "      <td>2016-03-01 00:00:12</td>\n",
       "    </tr>\n",
       "    <tr>\n",
       "      <th>2</th>\n",
       "      <td>614eaa17120fe46b</td>\n",
       "      <td>b</td>\n",
       "      <td>checkin</td>\n",
       "      <td>756d326815bc60c9</td>\n",
       "      <td>NaN</td>\n",
       "      <td>1.0</td>\n",
       "      <td>2016-03-01 00:00:02</td>\n",
       "      <td>b</td>\n",
       "      <td>checkin</td>\n",
       "      <td>NaN</td>\n",
       "      <td>1.0</td>\n",
       "      <td>2016-03-01 00:01:22</td>\n",
       "    </tr>\n",
       "    <tr>\n",
       "      <th>3</th>\n",
       "      <td>32edcb654a1dee57</td>\n",
       "      <td>b</td>\n",
       "      <td>checkin</td>\n",
       "      <td>d6122cfa99f1809f</td>\n",
       "      <td>NaN</td>\n",
       "      <td>1.0</td>\n",
       "      <td>2016-03-01 00:00:05</td>\n",
       "      <td>b</td>\n",
       "      <td>checkin</td>\n",
       "      <td>NaN</td>\n",
       "      <td>1.0</td>\n",
       "      <td>2016-03-01 00:04:38</td>\n",
       "    </tr>\n",
       "    <tr>\n",
       "      <th>4</th>\n",
       "      <td>34ba1f4ed8fa8368</td>\n",
       "      <td>b</td>\n",
       "      <td>checkin</td>\n",
       "      <td>b7502d32b09f32bb</td>\n",
       "      <td>NaN</td>\n",
       "      <td>NaN</td>\n",
       "      <td>2016-03-01 00:00:06</td>\n",
       "      <td>b</td>\n",
       "      <td>checkin</td>\n",
       "      <td>NaN</td>\n",
       "      <td>NaN</td>\n",
       "      <td>2016-03-01 00:05:38</td>\n",
       "    </tr>\n",
       "  </tbody>\n",
       "</table>\n",
       "</div>"
      ],
      "text/plain": [
       "         session_id group_start action_start           page_id  \\\n",
       "0  cbba9a98ba7b20cc           a      checkin  f79f531304a265f8   \n",
       "1  c1f0f8499c6655cd           b      checkin  88bebe600b777ea9   \n",
       "2  614eaa17120fe46b           b      checkin  756d326815bc60c9   \n",
       "3  32edcb654a1dee57           b      checkin  d6122cfa99f1809f   \n",
       "4  34ba1f4ed8fa8368           b      checkin  b7502d32b09f32bb   \n",
       "\n",
       "   n_results_start  result_position_start          time_start group_end  \\\n",
       "0              NaN                    4.0 2016-03-01 00:00:01         a   \n",
       "1              NaN                    NaN 2016-03-01 00:00:02         b   \n",
       "2              NaN                    1.0 2016-03-01 00:00:02         b   \n",
       "3              NaN                    1.0 2016-03-01 00:00:05         b   \n",
       "4              NaN                    NaN 2016-03-01 00:00:06         b   \n",
       "\n",
       "         action_end  n_results_end  result_position_end            time_end  \n",
       "0  searchResultPage           20.0                  NaN 2016-03-01 00:00:17  \n",
       "1           checkin            NaN                  NaN 2016-03-01 00:00:12  \n",
       "2           checkin            NaN                  1.0 2016-03-01 00:01:22  \n",
       "3           checkin            NaN                  1.0 2016-03-01 00:04:38  \n",
       "4           checkin            NaN                  NaN 2016-03-01 00:05:38  "
      ]
     },
     "execution_count": 29,
     "metadata": {},
     "output_type": "execute_result"
    }
   ],
   "source": [
    "df3 = pd.merge(session_begin, \n",
    "               session_end, \n",
    "               on='session_id',\n",
    "               suffixes=('_start','_end'))\n",
    "df3.head()"
   ]
  },
  {
   "cell_type": "markdown",
   "metadata": {},
   "source": [
    "We then get the time difference between the start and end times and convert this number into seconds."
   ]
  },
  {
   "cell_type": "code",
   "execution_count": 30,
   "metadata": {},
   "outputs": [],
   "source": [
    "temp_session_length = df3['time_end'] - df3['time_start']\n",
    "temp_session_length = temp_session_length.apply(lambda row: row.seconds)"
   ]
  },
  {
   "cell_type": "markdown",
   "metadata": {},
   "source": [
    "Now we try to bin the number of counts of the session length into different bins up until 20 minutes,"
   ]
  },
  {
   "cell_type": "code",
   "execution_count": 31,
   "metadata": {},
   "outputs": [],
   "source": [
    "bins = [0,10,30,60,90,120,150,180,210,240]\n",
    "time = 240\n",
    "for i in range(16):\n",
    "    time += 60\n",
    "    bins.append(time)\n",
    "\n",
    "top_session_lengths = temp_session_length.value_counts(bins=bins)"
   ]
  },
  {
   "cell_type": "markdown",
   "metadata": {},
   "source": [
    "Let's plot the distribution of the frequency of sessions that had session length within the above time intervals,"
   ]
  },
  {
   "cell_type": "code",
   "execution_count": 32,
   "metadata": {},
   "outputs": [
    {
     "data": {
      "text/plain": [
       "Text(0, 0.5, 'Frequency')"
      ]
     },
     "execution_count": 32,
     "metadata": {},
     "output_type": "execute_result"
    },
    {
     "data": {
      "image/png": "[encoded data removed]",
      "text/plain": [
       "<Figure size 432x288 with 1 Axes>"
      ]
     },
     "metadata": {
      "needs_background": "light"
     },
     "output_type": "display_data"
    }
   ],
   "source": [
    "plt.figure(figsize=(6,4))\n",
    "top_session_lengths.sort_index()\\\n",
    "                   .plot(kind='bar', \n",
    "                         title='Frequency Of Session Lengths')\n",
    "    \n",
    "plt.xlabel('Seconds')\n",
    "plt.ylabel('Frequency')"
   ]
  },
  {
   "cell_type": "markdown",
   "metadata": {},
   "source": [
    "We can see that most people spend either 10 seconds in a session. This means they probably are not finding what they want. Then the next largest groups of people spend 30 seconds, 7 minutes and 0 seconds respectively.  Let's see if there is a difference between the session length and session 'group'."
   ]
  },
  {
   "cell_type": "code",
   "execution_count": 33,
   "metadata": {},
   "outputs": [],
   "source": [
    "df3['session_length'] = temp_session_length\n",
    "session_length_by_group = df3.groupby(['group_start'])['session_length']\\\n",
    "                             .value_counts(bins=bins)"
   ]
  },
  {
   "cell_type": "code",
   "execution_count": 34,
   "metadata": {},
   "outputs": [
    {
     "data": {
      "text/plain": [
       "<Figure size 432x288 with 0 Axes>"
      ]
     },
     "metadata": {},
     "output_type": "display_data"
    },
    {
     "data": {
      "image/png": "[encoded data removed]",
      "text/plain": [
       "<Figure size 432x288 with 1 Axes>"
      ]
     },
     "metadata": {
      "needs_background": "light"
     },
     "output_type": "display_data"
    }
   ],
   "source": [
    "plot_session_length_by_group(session_length_by_group)"
   ]
  },
  {
   "cell_type": "markdown",
   "metadata": {},
   "source": [
    "We can see that the magnitudes of numbers are very different between the two groups but the shape of the distributions are roughly the same.  Let's take a look at how the percentages change between the two groups, we can get this information from the series through,"
   ]
  },
  {
   "cell_type": "code",
   "execution_count": 35,
   "metadata": {},
   "outputs": [],
   "source": [
    "session_length_a = session_length_by_group['a']\n",
    "session_length_b = session_length_by_group['b']\n",
    "\n",
    "tot_a = session_length_a.values.sum()\n",
    "tot_b = session_length_b.values.sum()\n",
    "\n",
    "session_length_a = session_length_a / tot_a\n",
    "session_length_b = session_length_b / tot_b"
   ]
  },
  {
   "cell_type": "markdown",
   "metadata": {},
   "source": [
    "And plot the results:"
   ]
  },
  {
   "cell_type": "code",
   "execution_count": 36,
   "metadata": {},
   "outputs": [
    {
     "data": {
      "image/png": "[encoded data removed]",
      "text/plain": [
       "<Figure size 648x360 with 2 Axes>"
      ]
     },
     "metadata": {
      "needs_background": "light"
     },
     "output_type": "display_data"
    }
   ],
   "source": [
    "plot_session_length_by_group_percentages(session_length_a,\n",
    "                                         session_length_b)"
   ]
  },
  {
   "cell_type": "markdown",
   "metadata": {},
   "source": [
    "It seems like group b had a larger percentage of people with both almost 10 or less seconds\n",
    "then group a.  Group b also seems like it had larger percentage of sessions that were 7 minutes than group a.  The 10 seconds or less is probably due to the higher zero rates in group b, but the 7 minutes I'm not able to explain right now.\n",
    "\n",
    "Let's take a look at the number or results in each search. We'll look at the top 25, but we have to do this carefully since we cannot just count the number of rows that have <code>n_results</code> equal a number, since some people may actually change the search criteria within a session.  We therefore groupby <code>session_id</code> and take the unique number of listed search results. Since this returns a Pandas Series where the index is the <code>session_id</code> and the values are a list of <code>n_results</code> for each session I had to <a href=\"http://stackoverflow.com/questions/30885005/pandas-series-of-lists-to-one-series\">chain</a> the values together before counting them:"
   ]
  },
  {
   "cell_type": "code",
   "execution_count": 37,
   "metadata": {},
   "outputs": [
    {
     "data": {
      "image/png": "[encoded data removed]",
      "text/plain": [
       "<Figure size 432x288 with 1 Axes>"
      ]
     },
     "metadata": {
      "needs_background": "light"
     },
     "output_type": "display_data"
    }
   ],
   "source": [
    "temp_results = df.groupby('session_id')['n_results'].unique()\n",
    "temp_results = pd.Series(list(chain(*temp_results.values)))\n",
    "\n",
    "number_of_results = temp_results.dropna()\\\n",
    "                                .value_counts()\\\n",
    "                                .head(25)\n",
    "        \n",
    "number_of_results.sort_index()\\\n",
    "                 .plot(kind='bar',\n",
    "                       title='Frequency Of The Number Of Results')\n",
    "    \n",
    "plt.xlabel('Number Of Results')\n",
    "plt.ylabel('Count')\n",
    "plt.show()"
   ]
  },
  {
   "cell_type": "markdown",
   "metadata": {},
   "source": [
    "It seems that most searches end up with 20 results and the two next highest are 0 and 1 results respectively. \n",
    "\n",
    "Let's take a look at the session lengths for number of <code>n_results</code> being 0, 1, 2, 3, 5, 10 and 20 and how this may be affected by value of <code>n_results</code>. We will take the number of <code>n_results</code> from the end of the session.  I wrote a function to find the disribution of percentages session length given the number of listed results <code>n_results</code> called <code>get_sessions_with_n_results</code>. The function takes in <code>df3</code> and the number of listed results and then returns a Pandas Series that is the distribution of percentages sessions with <code>session_length</code> and the value of listed of number of results <code>n_results</code>."
   ]
  },
  {
   "cell_type": "code",
   "execution_count": 38,
   "metadata": {},
   "outputs": [],
   "source": [
    "n_results = [0,1,2,5,10,20]\n",
    "results = [get_sessions_with_n_results(df3, n) for n in n_results]"
   ]
  },
  {
   "cell_type": "markdown",
   "metadata": {},
   "source": [
    "We plot the results below"
   ]
  },
  {
   "cell_type": "code",
   "execution_count": 39,
   "metadata": {},
   "outputs": [
    {
     "data": {
      "image/png": "[encoded data removed]",
      "text/plain": [
       "<Figure size 576x864 with 6 Axes>"
      ]
     },
     "metadata": {
      "needs_background": "light"
     },
     "output_type": "display_data"
    }
   ],
   "source": [
    "plt.figure(figsize=(8,12))\n",
    "colors = ['g','r','b','m','c','k']\n",
    "for i in range(1,len(n_results)+1):\n",
    "    n = i-1\n",
    "    plt.subplot(4,2,i)\n",
    "    results[n].sort_index()\\\n",
    "              .plot(kind='bar', \n",
    "                    color=colors[n],\n",
    "                    label='n_results = '+ str(n_results[n]))\n",
    "        \n",
    "    plt.legend()\n",
    "    plt.xlabel('Seconds')\n",
    "    plt.ylim([0, 0.15])\n",
    "\n",
    "plt.show()"
   ]
  },
  {
   "cell_type": "markdown",
   "metadata": {},
   "source": [
    "It doent look like there is much a difference between the number of results and how long people spend on the first clicked page.  Let's take the people who spent between 6 and 8 minutes on a link and take a look at which result page people clicked on:"
   ]
  },
  {
   "cell_type": "code",
   "execution_count": 40,
   "metadata": {},
   "outputs": [
    {
     "ename": "IndentationError",
     "evalue": "unexpected indent (<ipython-input-40-7e0c18485574>, line 5)",
     "output_type": "error",
     "traceback": [
      "\u001b[0;36m  File \u001b[0;32m\"<ipython-input-40-7e0c18485574>\"\u001b[0;36m, line \u001b[0;32m5\u001b[0m\n\u001b[0;31m    .plot(kind='bar',\u001b[0m\n\u001b[0m    ^\u001b[0m\n\u001b[0;31mIndentationError\u001b[0m\u001b[0;31m:\u001b[0m unexpected indent\n"
     ]
    }
   ],
   "source": [
    "title='result_position of page where people spent 6-8 minutes.'\n",
    "df_420 = df3[df3.session_length < 480]\n",
    "df_420 = df_420[df_420.session_length >= 360]\n",
    "df_420.result_position_end.value_counts()\n",
    "                          .plot(kind='bar',\n",
    "                                title=title)\n",
    "plt.xlabel('result_position')\n",
    "plt.ylabel('Frequency')"
   ]
  },
  {
   "cell_type": "markdown",
   "metadata": {},
   "source": [
    "It seems that the number people who spent 6-8 minutes on a resulting webpage were spending that time on the first listed result.  So one way to improve the clickthrough rate would be to focus on optimizing the listing engine such that first result is the very relevant. Focusing on getting many relevant searrch reults probably is not the best track since the number of results dont seem to effect how the session_length."
   ]
  },
  {
   "cell_type": "markdown",
   "metadata": {},
   "source": [
    "-------------------------------------------------------\n",
    "## Conclusion <a class=\"anchor\" id=\"seventh-bullet\"></a>\n",
    "-------------------------------------------------------\n",
    "\n",
    "In this project we looked into factors that influence clickthrough rates on eight days of data from the Wikimedia foundation.  They had two different groups that users sessions were in, these are 'group a' and 'group b'.  We found that,\n",
    "\n",
    "- 'group b' had a higher return of zero results and subsequently a lower clickthrough rate compared to 'group a'.\n",
    "\n",
    "\n",
    "- Most of the search results either gave 20 or no search results.\n",
    "\n",
    "\n",
    "- There wasnt much of a difference between how many listings there were and the session length.\n",
    "\n",
    "\n",
    "- most of the sessions had time lengths that were either under 1 minute or between 6 and 8 minutes.  \n",
    "\n",
    "\n",
    "- Most of the people clicked on the first listed result and the majority of people who had sessions lengths between 6 and 8 clicked ended their session on the webpage of the first listed result.\n",
    "\n",
    "\n",
    "\n",
    "There are definitely more factors we could look into that could influence click through rate and session length, but that will have to wait for another day!"
   ]
  }
 ],
 "metadata": {
  "anaconda-cloud": {},
  "kernelspec": {
   "display_name": "Python 3",
   "language": "python",
   "name": "python3"
  },
  "language_info": {
   "codemirror_mode": {
    "name": "ipython",
    "version": 3
   },
   "file_extension": ".py",
   "mimetype": "text/x-python",
   "name": "python",
   "nbconvert_exporter": "python",
   "pygments_lexer": "ipython3",
   "version": "3.6.7"
  }
 },
 "nbformat": 4,
 "nbformat_minor": 1
}
