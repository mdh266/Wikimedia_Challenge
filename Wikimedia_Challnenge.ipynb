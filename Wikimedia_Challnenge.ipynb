{
 "cells": [
  {
   "cell_type": "markdown",
   "metadata": {
    "collapsed": false
   },
   "source": [
    "# Wikimedia Data Challenge\n",
    "\n",
    "## Introduction\n",
    "This Project was put out as data challenge by the <a href=\"https://wikimediafoundation.org/wiki/Home\">Wikimedia Foundation</a> for a data analyst position. I thought it would be a great opportunity to brush up on some data analysis tools in Pandas and decided to complete the challenge.\n",
    "\n",
    "\n",
    "The goal of the project was to analyze data from *event logging* (EL) to track a variety of performance and usage metrics to help them make decisions. Specifically, they were interested in:\n",
    "\n",
    "- *clickthrough rate*: the proportion of search sessions where the user clicked on one of the results displayed\n",
    "- *zero results rate*: the proportion of searches that yielded 0 results\n",
    "\n",
    "EL uses JavaScript to asynchronously send messages (events) to their servers when the user has performed specific actions. \n",
    "\n",
    "\n",
    "## Data\n",
    "\n",
    "The dataset comes from a [tracking schema](3) that they use for assessing user satisfaction. Desktop users are randomly sampled to be anonymously tracked by this schema which uses a \"I'm alive\" pinging system that we can use to estimate how long our users stay on the pages they visit. The dataset contains just a little more than a week of EL data.\n",
    "\n",
    "| Column          | Value   | Description                                                                       |\n",
    "|:----------------|:--------|:----------------------------------------------------------------------------------|\n",
    "| uuid            | string  | Universally unique identifier (UUID) for backend event handling.                  |\n",
    "| timestamp       | integer | The date and time (UTC) of the event, formatted as YYYYMMDDhhmmss.                |\n",
    "| session_id      | string  | A unique ID identifying individual sessions.                                      |\n",
    "| group           | string  | A label (\"a\" or \"b\").                                     |\n",
    "| action          | string  | Identifies in which the event was created. See below.                             |\n",
    "| checkin         | integer | How many seconds the page has been open for.                                      |\n",
    "| page_id         | string  | A unique identifier for correlating page visits and check-ins.                    |\n",
    "| n_results       | integer | Number of hits returned to the user. Only shown for searchResultPage events.      |\n",
    "| result_position | integer | The position of the visited page's link on the search engine results page (SERP). |\n",
    "\n",
    "The following are possible values for an event's action field:\n",
    "\n",
    "- **searchResultPage**: when a new search is performed and the user is shown a SERP.\n",
    "- **visitPage**: when the user clicks a link in the results.\n",
    "- **checkin**: when the user has remained on the page for a pre-specified amount of time.\n",
    "\n",
    "### Example Session\n",
    "\n",
    "|uuid                             |      timestamp|session_id       |group |action           | checkin|page_id          | n_results| result_position|\n",
    "|:--------------------------------|:--------------|:----------------|:-----|:----------------|-------:|:----------------|---------:|---------------:|\n",
    "|4f699f344515554a9371fe4ecb5b9ebc | 20160305195246|001e61b5477f5efc |b     |searchResultPage |      NA|1b341d0ab80eb77e |         7|              NA|\n",
    "|759d1dc9966353c2a36846a61125f286 | 20160305195302|001e61b5477f5efc |b     |visitPage        |      NA|5a6a1f75124cbf03 |        NA|               1|\n",
    "|77efd5a00a5053c4a713fbe5a48dbac4 | 20160305195312|001e61b5477f5efc |b     |checkin          |      10|5a6a1f75124cbf03 |        NA|               1|\n",
    "|42420284ad895ec4bcb1f000b949dd5e | 20160305195322|001e61b5477f5efc |b     |checkin          |      20|5a6a1f75124cbf03 |        NA|               1|\n",
    "|8ffd82c27a355a56882b5860993bd308 | 20160305195332|001e61b5477f5efc |b     |checkin          |      30|5a6a1f75124cbf03 |        NA|               1|\n",
    "|2988d11968b25b29add3a851bec2fe02 | 20160305195342|001e61b5477f5efc |b     |checkin          |      40|5a6a1f75124cbf03 |        NA|               1|\n",
    "\n",
    "This user's search query returned 7 results, they clicked on the first result, and stayed on the page between 40 and 50 seconds. (The next check-in would have happened at 50s.)\n",
    "\n",
    "[1]: https://www.mediawiki.org/wiki/Wikimedia_Discovery\n",
    "[2]: https://wikimediafoundation.org/wiki/Home\n",
    "[3]: https://meta.wikimedia.org/wiki/Schema:TestSearchSatisfaction2\n",
    "\n",
    "\n",
    "## Objectives\n",
    "\n",
    "The objectives of this project are to find answers to the following questions:\n",
    "\n",
    "1. What is their daily overall clickthrough rate? How does it vary between the groups?\n",
    "2. Which results do people tend to try first? How does it change day-to-day?\n",
    "3. What is their daily overall zero results rate? How does it vary between the groups?\n",
    "4. Let *session length* be approximately the time between the first event and the last event in a session. Choose a variable from the dataset and describe its relationship to session length. Visualize the relationship.\n",
    "\n",
    "\n",
    "\n",
    "We'll dive in to the data analysis below, but first well read in some basic libraries as well as write some functions which we will use later on."
   ]
  },
  {
   "cell_type": "code",
   "execution_count": 1,
   "metadata": {
    "collapsed": true
   },
   "outputs": [],
   "source": [
    "import pandas as pd\n",
    "import numpy as np\n",
    "import os.path\n",
    "import pandas as pd\n",
    "import matplotlib.pyplot as plt\n",
    "% matplotlib inline\n",
    "\n",
    "def read_in_data():\n",
    "    \"\"\"\n",
    "    Does the following,\n",
    "    \n",
    "    1.) Reads in the csv file:\n",
    "    \n",
    "        'events_logs.csv'\n",
    "    \n",
    "    and set the index to be the timestamp and print its to a\n",
    "    new file called:\n",
    "        \n",
    "        'new_events_log.csv'\n",
    "        \n",
    "    2.) Then it just reads in'new_events_log.csv' and returns the\n",
    "    corresponding dataframe.\n",
    "    \n",
    "    If the file 'new_events_log.csv'already exists then only 2. is done.\n",
    "    \n",
    "    :return: Dataframe of the data.\n",
    "    \n",
    "    :rvalue: Pandas DataFrame.\n",
    "    \n",
    "    \"\"\"\n",
    "    # 1.)\n",
    "    if os.path.isfile('new_events_log.csv') is False:\n",
    "        df = pd.read_csv(\"events_log.csv\")\n",
    "        df['timestamp'] = df['timestamp'].astype(int)\n",
    "        df.to_csv('new_events_log.csv')\n",
    "    \n",
    "    #2.) \n",
    "    df = pd.read_csv(\"new_events_log.csv\",\n",
    "                     parse_dates=['timestamp'], \n",
    "                     index_col='timestamp')\n",
    "    \n",
    "    # drop some extra column\n",
    "    df = df.drop('Unnamed: 0',axis=1)\n",
    "    \n",
    "    return df\n",
    "\n",
    "def searched_per_day_by_group(df):\n",
    "    \"\"\"\n",
    "    Returns the number of searches per day by group 'a' vs. 'b'\n",
    "    \n",
    "    :param: df: Pandas dataframe indexed by pandas.DateTime\n",
    "    \n",
    "    :returns: Series with the day and the number of searches\n",
    "              in that day by group 'a' vs. 'b'\n",
    "    \n",
    "    :rvalue: Pandas Series\n",
    "    \"\"\"\n",
    "    return df.groupby([pd.TimeGrouper('D'),'group']).apply(lambda row: \n",
    "                                                           len(row[row['action'] == 'searchResultPage']))\n",
    "\n",
    "\n",
    "def searched_per_day(df):\n",
    "    \"\"\"\n",
    "    Returns the number of searches per day\n",
    "    \n",
    "    :param: df: Pandas dataframe indexed by pandas.DateTime\n",
    "    \n",
    "    :returns: Series with the day and the percentage of searches in that day\n",
    "    \n",
    "    :rvalue: Pandas Series\n",
    "    \"\"\"\n",
    "    return df.groupby([pd.TimeGrouper('D')]).apply(lambda row: \n",
    "                                                   len(row[row['action'] == 'searchResultPage']))\n",
    "\n",
    "\n",
    "def average_click_through_rate(df):\n",
    "    \"\"\"\n",
    "    Returns the average number of clickthroughs per day\n",
    "    \n",
    "    :param: df: Pandas dataframe indexed by pandas.DateTime\n",
    "    \n",
    "    :returns: Series with the day and the percentage of clickthroughs \n",
    "              in that day \n",
    "    \n",
    "    :rvalue: float\n",
    "    \"\"\"\n",
    "    # click through by day\n",
    "    CT_PerDay = df.groupby([pd.TimeGrouper('D')]).apply(lambda row: \n",
    "                                                           len(row[row['action'] == 'visitPage']))\n",
    "    \n",
    "    Searches_PerDay = searched_per_day(df)\n",
    "    \n",
    "    Daily_Averages = CT_PerDay / Searches_PerDay\n",
    "    \n",
    "    return Daily_Averages.mean()\n",
    "\n",
    "\n",
    "def average_click_through_rate_by_group(df):\n",
    "    \"\"\"\n",
    "    Returns the average number of clickthroughs per day by group 'a' vs. 'b'\n",
    "    \n",
    "    :param: df: Pandas dataframe indexed by pandas.DateTime\n",
    "    \n",
    "    :returns: Series with the day and the percentage of clickthroughs \n",
    "              in that day by group 'a' vs. 'b'\n",
    "    \n",
    "    :rvalue: Pandas Series\n",
    "    \"\"\"\n",
    "    Searches_PerDay_By_Group = searched_per_day_by_group(df)\n",
    "    CT_PerDay_By_Group = df.groupby([pd.TimeGrouper('D'),'group']).apply(lambda row: \n",
    "                                                           len(row[row['action'] == 'visitPage']))\n",
    "\n",
    "    \n",
    "    Daily_Averages_By_Group = CT_PerDay_By_Group / Searches_PerDay_By_Group\n",
    "\n",
    "    # groupby the second entry in the multi-tuple index\n",
    "    return Daily_Averages_By_Group.groupby(level=[1]).mean()\n",
    "\n",
    "    \n",
    "def average_zero_rate(df):\n",
    "    \"\"\"\n",
    "    Returns the average daily number of searches that return zero results.\n",
    "    \n",
    "    :param: df: Pandas dataframe indexed by pandas.DateTime\n",
    "    \n",
    "    :returns: average daily percentage of searches that return zero results.\n",
    "    \n",
    "    :rvalue: float\n",
    "    \"\"\"\n",
    "    Searches_PerDay = searched_per_day(df)\n",
    "    \n",
    "    zero_results = df.groupby([pd.TimeGrouper('D')]).apply(lambda row: \n",
    "                                                   len(row[row['n_results'] == 0]))\n",
    "    \n",
    "    perecent_zeros = zero_results / Searches_PerDay\n",
    "    \n",
    "    return perecent_zeros.mean()\n",
    "\n",
    "\n",
    "def average_zero_rate_by_group(df):\n",
    "    \"\"\"\n",
    "    Returns the average daily number of searches that return zero results by group.\n",
    "    \n",
    "    :param: df: Pandas dataframe indexed by pandas.DateTime\n",
    "    \n",
    "    :returns: Series with the day and the percentage of searches that return zero results\n",
    "              in that day by group 'a' vs. 'b'\n",
    "              \n",
    "    :rvalue: Pandas Series\n",
    "    \"\"\"\n",
    "    Searches_PerDay_By_Group = searched_per_day_by_group(df)\n",
    "    \n",
    "    zero_results = df.groupby([pd.TimeGrouper('D')]).apply(lambda row: \n",
    "                                                   len(row[row['n_results'] == 0]))\n",
    "    \n",
    "    perecent_zeros = zero_results / Searches_PerDay_By_Group\n",
    "    \n",
    "    # groupby the second entry in the multi-tuple index\n",
    "    return perecent_zeros.groupby(level=[1]).mean()\n",
    "\n",
    "def plot_scalar(rate, string):\n",
    "    \"\"\"\n",
    "    Function that plots a scalar as bar graph. It replaces the x axis ticks \n",
    "    with the str string that is the description of the value to be plotted.\n",
    "    \n",
    "    :param: rate (float) : The value to be plotted.\n",
    "    :param: string (str) : The description of the value to be plotted.\n",
    "    \"\"\"\n",
    "    \n",
    "    width = 0.25\n",
    "    width1 = 0.1\n",
    "    ind = [-0.05]\n",
    "    plt.bar(ind, rate, width1)\n",
    "    plt.ylim([0,1])\n",
    "    plt.xlim([-width, width])\n",
    "    plt.xticks([0],[string])\n",
    "    plt.show()\n",
    "    \n",
    "    \n",
    "def plot_grouped(diff, string):\n",
    "    \"\"\"\n",
    "    Function that plots the Pandas Series values as bar graph. \n",
    "    \n",
    "    :param: diff (Pandas Series) : The Series is usually the grouped results.\n",
    "    :param: string (str) : The description of the value to be plotted.\n",
    "    \"\"\"\n",
    "    diff.plot(kind='bar',title=string)\n",
    "    plt.xticks(rotation=0)\n",
    "    plt.ylim([0,1.0])\n",
    "    plt.show()"
   ]
  },
  {
   "cell_type": "markdown",
   "metadata": {},
   "source": [
    "## Understanding The Data.\n",
    "The data was provided in csv format in a file called, \"events_log.csv.\" When reading in the data I wanted to set the index of the dataframe to be timestamp.  This can be achieved using the pandas command:\n",
    "\n",
    "    df = pd.read_csv(\"events_log.csv\",\n",
    "                     parse_dates=['timestamp'], \n",
    "                     index_col='timestamp')\n",
    "                  \n",
    "                  \n",
    "However, this would not work because the timestamp was being read as an integer in scientific notation and therefore wouldnt convert to DateTime properly. I was able to circumvent this by first reading in the dataframe as usual, then \n",
    "changing the timestamp variable to an integer with the command:\n",
    "    \n",
    "    df = pd.read_csv('events_log.csv')\n",
    "    df['timestamp'] = df['timestamp'].astype(int)\n",
    "\n",
    "I then wrote the dataframe to csv as \"new_events_log.csv\" and read it in again using the previous technique.  I wanted my code to work even if the person had download the original csv and not the new one.  So,  I wrote a function that did the above if \"new_events_log.csv\" doesn't exist, and if it did exist just read it in.  This is the funciton called below,"
   ]
  },
  {
   "cell_type": "code",
   "execution_count": 2,
   "metadata": {
    "collapsed": false
   },
   "outputs": [],
   "source": [
    "df = read_in_data()"
   ]
  },
  {
   "cell_type": "markdown",
   "metadata": {},
   "source": [
    "Now, we can get a basic idea of our data by using the info() function:"
   ]
  },
  {
   "cell_type": "code",
   "execution_count": 3,
   "metadata": {
    "collapsed": false
   },
   "outputs": [
    {
     "name": "stdout",
     "output_type": "stream",
     "text": [
      "<class 'pandas.core.frame.DataFrame'>\n",
      "DatetimeIndex: 400165 entries, 2016-03-01 10:38:42 to 2016-03-04 14:43:03\n",
      "Data columns (total 8 columns):\n",
      "uuid               400165 non-null object\n",
      "session_id         400165 non-null object\n",
      "group              400165 non-null object\n",
      "action             400165 non-null object\n",
      "checkin            223824 non-null float64\n",
      "page_id            400165 non-null object\n",
      "n_results          136234 non-null float64\n",
      "result_position    230482 non-null float64\n",
      "dtypes: float64(3), object(5)\n",
      "memory usage: 27.5+ MB\n"
     ]
    }
   ],
   "source": [
    "df.info()"
   ]
  },
  {
   "cell_type": "markdown",
   "metadata": {},
   "source": [
    "Let's get an idea of the number of sessions this takes into account for,"
   ]
  },
  {
   "cell_type": "code",
   "execution_count": 4,
   "metadata": {
    "collapsed": false
   },
   "outputs": [
    {
     "name": "stdout",
     "output_type": "stream",
     "text": [
      "Number of sessions: 68028\n"
     ]
    }
   ],
   "source": [
    "session_ids = df.session_id.unique()\n",
    "print \"Number of sessions: \" + str(len(session_ids))"
   ]
  },
  {
   "cell_type": "markdown",
   "metadata": {},
   "source": [
    "We can sort the dataframe by session_id to see how long each person stayed on a webpage,"
   ]
  },
  {
   "cell_type": "code",
   "execution_count": 5,
   "metadata": {
    "collapsed": false
   },
   "outputs": [
    {
     "data": {
      "text/html": [
       "<div>\n",
       "<table border=\"1\" class=\"dataframe\">\n",
       "  <thead>\n",
       "    <tr style=\"text-align: right;\">\n",
       "      <th></th>\n",
       "      <th>uuid</th>\n",
       "      <th>session_id</th>\n",
       "      <th>group</th>\n",
       "      <th>action</th>\n",
       "      <th>checkin</th>\n",
       "      <th>page_id</th>\n",
       "      <th>n_results</th>\n",
       "      <th>result_position</th>\n",
       "    </tr>\n",
       "    <tr>\n",
       "      <th>timestamp</th>\n",
       "      <th></th>\n",
       "      <th></th>\n",
       "      <th></th>\n",
       "      <th></th>\n",
       "      <th></th>\n",
       "      <th></th>\n",
       "      <th></th>\n",
       "      <th></th>\n",
       "    </tr>\n",
       "  </thead>\n",
       "  <tbody>\n",
       "    <tr>\n",
       "      <th>2016-03-03 15:20:45</th>\n",
       "      <td>e6f9280c8df5536490eb925a91979a3b</td>\n",
       "      <td>0000cbcb67c19c45</td>\n",
       "      <td>b</td>\n",
       "      <td>searchResultPage</td>\n",
       "      <td>NaN</td>\n",
       "      <td>fdeeb9aaf0130d41</td>\n",
       "      <td>20.0</td>\n",
       "      <td>NaN</td>\n",
       "    </tr>\n",
       "    <tr>\n",
       "      <th>2016-03-07 08:49:55</th>\n",
       "      <td>5b394c862bf657d98bcd25589a5247ac</td>\n",
       "      <td>0001382e027b2ea4</td>\n",
       "      <td>b</td>\n",
       "      <td>searchResultPage</td>\n",
       "      <td>NaN</td>\n",
       "      <td>7aa28c36c03380a0</td>\n",
       "      <td>18.0</td>\n",
       "      <td>NaN</td>\n",
       "    </tr>\n",
       "    <tr>\n",
       "      <th>2016-03-07 08:50:18</th>\n",
       "      <td>f01620582b615c03812cb1af2e804102</td>\n",
       "      <td>0001382e027b2ea4</td>\n",
       "      <td>b</td>\n",
       "      <td>checkin</td>\n",
       "      <td>20.0</td>\n",
       "      <td>f88793c95e778898</td>\n",
       "      <td>NaN</td>\n",
       "      <td>1.0</td>\n",
       "    </tr>\n",
       "    <tr>\n",
       "      <th>2016-03-07 08:51:28</th>\n",
       "      <td>fa6a1974487154aa95ddb93d8d5d3734</td>\n",
       "      <td>0001382e027b2ea4</td>\n",
       "      <td>b</td>\n",
       "      <td>checkin</td>\n",
       "      <td>90.0</td>\n",
       "      <td>f88793c95e778898</td>\n",
       "      <td>NaN</td>\n",
       "      <td>1.0</td>\n",
       "    </tr>\n",
       "    <tr>\n",
       "      <th>2016-03-07 08:53:28</th>\n",
       "      <td>70d367a1c60156c1b1723d1e4196a987</td>\n",
       "      <td>0001382e027b2ea4</td>\n",
       "      <td>b</td>\n",
       "      <td>checkin</td>\n",
       "      <td>210.0</td>\n",
       "      <td>f88793c95e778898</td>\n",
       "      <td>NaN</td>\n",
       "      <td>1.0</td>\n",
       "    </tr>\n",
       "  </tbody>\n",
       "</table>\n",
       "</div>"
      ],
      "text/plain": [
       "                                                 uuid        session_id group  \\\n",
       "timestamp                                                                       \n",
       "2016-03-03 15:20:45  e6f9280c8df5536490eb925a91979a3b  0000cbcb67c19c45     b   \n",
       "2016-03-07 08:49:55  5b394c862bf657d98bcd25589a5247ac  0001382e027b2ea4     b   \n",
       "2016-03-07 08:50:18  f01620582b615c03812cb1af2e804102  0001382e027b2ea4     b   \n",
       "2016-03-07 08:51:28  fa6a1974487154aa95ddb93d8d5d3734  0001382e027b2ea4     b   \n",
       "2016-03-07 08:53:28  70d367a1c60156c1b1723d1e4196a987  0001382e027b2ea4     b   \n",
       "\n",
       "                               action  checkin           page_id  n_results  \\\n",
       "timestamp                                                                     \n",
       "2016-03-03 15:20:45  searchResultPage      NaN  fdeeb9aaf0130d41       20.0   \n",
       "2016-03-07 08:49:55  searchResultPage      NaN  7aa28c36c03380a0       18.0   \n",
       "2016-03-07 08:50:18           checkin     20.0  f88793c95e778898        NaN   \n",
       "2016-03-07 08:51:28           checkin     90.0  f88793c95e778898        NaN   \n",
       "2016-03-07 08:53:28           checkin    210.0  f88793c95e778898        NaN   \n",
       "\n",
       "                     result_position  \n",
       "timestamp                             \n",
       "2016-03-03 15:20:45              NaN  \n",
       "2016-03-07 08:49:55              NaN  \n",
       "2016-03-07 08:50:18              1.0  \n",
       "2016-03-07 08:51:28              1.0  \n",
       "2016-03-07 08:53:28              1.0  "
      ]
     },
     "execution_count": 5,
     "metadata": {},
     "output_type": "execute_result"
    }
   ],
   "source": [
    "df.sort_values('session_id').head().sort_index()"
   ]
  },
  {
   "cell_type": "markdown",
   "metadata": {},
   "source": [
    "Now let's get into analyzing the data.  "
   ]
  },
  {
   "cell_type": "markdown",
   "metadata": {},
   "source": [
    "## Analyzing The Data"
   ]
  },
  {
   "cell_type": "markdown",
   "metadata": {},
   "source": [
    "### Question 1.\n",
    "\n",
    "We first set out to understand what the average daily click through rate of the users is, we can do this by first finding out how many people visit the page per day.  This is the number the of searches per day, i.e. when each rows has,\n",
    "\n",
    "    'action' = 'searchResultPage'\n",
    "    \n",
    "grouped by day.  We then a need the number of people that visit a page that comes up on the search that is given when each of the rows has, \n",
    "\n",
    "    'action' == 'visitPage'\n",
    "    \n",
    "grouped by day.  We then divide the two values to get the clickthrough rate.  This is what is completed in \n",
    "\n",
    "    average_click_through_rate(...)\n",
    "\n",
    "and we display the results below:"
   ]
  },
  {
   "cell_type": "code",
   "execution_count": 6,
   "metadata": {
    "collapsed": false
   },
   "outputs": [
    {
     "data": {
      "image/png": "[encoded data removed]",
      "text/plain": [
       "<matplotlib.figure.Figure at 0x1043c0ad0>"
      ]
     },
     "metadata": {},
     "output_type": "display_data"
    }
   ],
   "source": [
    "rate = [average_click_through_rate(df)]\n",
    "plot_scalar(rate, 'Average Daily Clickthrough Rate')"
   ]
  },
  {
   "cell_type": "markdown",
   "metadata": {},
   "source": [
    "We now have to answer the same question on quick through rate, but also take into account the differences between groups.  This can be achieved using the same procedure as before, but grouping by day as well as the group, i.e.\n",
    "\n",
    "    df.groupby[pd.TimeGrouper('D'),'group']\n",
    "\n",
    "and then count the number of rows that have the different actions.  This is what is done in the function, \n",
    "\n",
    "    average_click_through_rate_by_group(...) \n",
    "    \n",
    "and we show the results below:"
   ]
  },
  {
   "cell_type": "code",
   "execution_count": null,
   "metadata": {
    "collapsed": false
   },
   "outputs": [
    {
     "data": {
      "image/png": "[encoded data removed]",
      "text/plain": [
       "<matplotlib.figure.Figure at 0x111d86310>"
      ]
     },
     "metadata": {},
     "output_type": "display_data"
    }
   ],
   "source": [
    "diff = average_click_through_rate_by_group(df)\n",
    "plot_grouped(diff,\"Average Daily Clickthrough Rate By Group\")"
   ]
  },
  {
   "cell_type": "markdown",
   "metadata": {},
   "source": [
    "We can see that the a the click through rate in group a is almost two that of group b."
   ]
  },
  {
   "cell_type": "markdown",
   "metadata": {},
   "source": [
    "### Question 2."
   ]
  },
  {
   "cell_type": "markdown",
   "metadata": {
    "collapsed": false
   },
   "source": [
    "We first get the number of result searches pages that were clicked on grouping by day, session_id and result_positon.  We do this using a group by as well as filtering the rows and only taking ones where the pages has been visited by looping through the rows and taking filtering:"
   ]
  },
  {
   "cell_type": "code",
   "execution_count": null,
   "metadata": {
    "collapsed": true
   },
   "outputs": [],
   "source": [
    "clicked = df.groupby([pd.TimeGrouper('D'),\n",
    "                            'session_id',\n",
    "                            'result_position']).apply(lambda row: len(row[row['result_position'] > 0]))"
   ]
  },
  {
   "cell_type": "code",
   "execution_count": null,
   "metadata": {
    "collapsed": false
   },
   "outputs": [],
   "source": [
    "clicked.head()"
   ]
  },
  {
   "cell_type": "markdown",
   "metadata": {
    "collapsed": false
   },
   "source": [
    "We note that the values in the series is the number of times that the result_positon appeared in the rows of the dataframe. We see that in session, 002b97995ca9ce77, they went to both the 3rd listed result and the 18th listed result. Let's take a look at the data for that session:"
   ]
  },
  {
   "cell_type": "code",
   "execution_count": null,
   "metadata": {
    "collapsed": false
   },
   "outputs": [],
   "source": [
    "df[df.session_id == '002b97995ca9ce77'].sort_index()"
   ]
  },
  {
   "cell_type": "markdown",
   "metadata": {},
   "source": [
    "We can see that the person first checked out the 3rd result and then went back to the page and checked out the 18th search result.  We have to be careful that we only take the first result webpage the clicked on in the analysis.  I did this by first filtering the dataframe to only included rows where the person was checkin in and sorted by the time (index):"
   ]
  },
  {
   "cell_type": "code",
   "execution_count": null,
   "metadata": {
    "collapsed": true
   },
   "outputs": [],
   "source": [
    "visited_pages = df[df.action == 'visitPage'].sort_index()"
   ]
  },
  {
   "cell_type": "markdown",
   "metadata": {},
   "source": [
    "Next we groupby the day and session_id and take the first result in the column corresponding to the 'result_position' column.  Since the dataframe is sorted we are assured that the result we get back is the first searche page the user clicked on:"
   ]
  },
  {
   "cell_type": "code",
   "execution_count": null,
   "metadata": {
    "collapsed": false
   },
   "outputs": [],
   "source": [
    "first_clicked = visited_pages.groupby([pd.TimeGrouper('D'),\n",
    "                                       'session_id',], sort=True)['result_position'].first()"
   ]
  },
  {
   "cell_type": "markdown",
   "metadata": {},
   "source": [
    "We print out the first few to see what the results look like:"
   ]
  },
  {
   "cell_type": "code",
   "execution_count": null,
   "metadata": {
    "collapsed": false
   },
   "outputs": [],
   "source": [
    "first_clicked.head()"
   ]
  },
  {
   "cell_type": "markdown",
   "metadata": {},
   "source": [
    "As a sanity check we can see that the value for session_id 002b97995ca9ce77 is 3 which is what we expected.  Now we loop over the number of days and count page numbers that are first visited, and order them in order of the page number and ina bar plot:"
   ]
  },
  {
   "cell_type": "code",
   "execution_count": null,
   "metadata": {
    "collapsed": false
   },
   "outputs": [],
   "source": [
    "days = ['2016-03-01', '2016-03-02', '2016-03-03', '2016-03-04',\n",
    "        '2016-03-05', '2016-03-06', '2016-03-07', '2016-03-08']\n",
    "\n",
    "for day in days:\n",
    "    \n",
    "    first_clicked[day].value_counts().sort_index().plot(kind='bar')\n",
    "    plt.xlabel(day)\n",
    "    plt.ylabel('Count')\n",
    "    plt.title('First Clicked Link')\n",
    "    plt.show()"
   ]
  },
  {
   "cell_type": "markdown",
   "metadata": {},
   "source": [
    "The first thing we see is that the first listed search result is the one that is most clicked and the number of click throughs on the rest of the results drop exponentially with the rank of the listing. This makes sense as the we usually only stay on the first page and hopefully the first returned search result is usually the relevant. Intersting things to note are that on the first day, someone first clicked on the 4087th result, that seems pretty strange and on the 4th day someone also clicked on the 414th search result, these are pretty big numbers and I'm not so sure why this could be.\n",
    "\n",
    "The number of clickthroughs on the first result seem to be around 2400-2500 for the first three days. On the fourth day they drop to 2300, then drops down to 1700 on the fifth day and recovers to 2000 on the 6th and returns to the 2400-2500 range on the seventh day and finally dropping again to around 2200 on the eigth day. We can see that most days the first search results get about 2200-2500 clicks, but a noticable drop in click rate for the first search result occurs on the 5th day.  We can also see the same pattern occurs for the click rate on the second search result."
   ]
  },
  {
   "cell_type": "markdown",
   "metadata": {},
   "source": [
    "### Question 3. \n",
    "\n",
    "Now we are interested in looking at the daily zero rates, that is the the number of searches that return zero results. We group by the day and then count the number of rows that have,\n",
    "\n",
    "    'n_results' == 0\n",
    "    \n",
    "and divide by the number of searches and get the zero rate. This is done in the function \n",
    " \n",
    "    average_zero_rate(...)\n",
    "\n",
    "We plot this as a bar graph:"
   ]
  },
  {
   "cell_type": "code",
   "execution_count": null,
   "metadata": {
    "collapsed": false
   },
   "outputs": [],
   "source": [
    "rate = [average_zero_rate(df)]\n",
    "plot_scalar(rate,'Average Daily Zeros Rate')"
   ]
  },
  {
   "cell_type": "markdown",
   "metadata": {},
   "source": [
    "We now repeat the same process as above but also group by the group 'a' or 'b', this is done in the function,\n",
    "\n",
    "    average_zero_rate_by_group(...)\n",
    "    \n",
    "We plot the results below,"
   ]
  },
  {
   "cell_type": "code",
   "execution_count": null,
   "metadata": {
    "collapsed": false
   },
   "outputs": [],
   "source": [
    "diff2 = average_zero_rate_by_group(df)\n",
    "plot_grouped(diff,'Average Daily Zero Rate By Group')"
   ]
  },
  {
   "cell_type": "markdown",
   "metadata": {
    "collapsed": true
   },
   "source": [
    "We can see that the average zero rate is much higher in group a than group b, this is a little strange to me.  I would expect that the zero rate would be higher in group b since it has a smaller clickthrough rate."
   ]
  },
  {
   "cell_type": "markdown",
   "metadata": {
    "collapsed": false
   },
   "source": [
    "### Question 4. \n",
    "Now we want to look into the session length. We first get the start time of each session by grouping by session_id, and taking the first row.  We have to use, <code>nth(0)</code> instead of, <code>first()</code> because of issues with it dropping cases with NaN.  We drop the uuid column since it seems like useless information and pushes the prints the table too wide.  The last thing I will mention is that we use the <code>as_index = False</code> in the <code>groupby(...)</code> call so that we get keep the original index and get back a Pandas dataframe instead of Pandas Series:"
   ]
  },
  {
   "cell_type": "code",
   "execution_count": null,
   "metadata": {
    "collapsed": false
   },
   "outputs": [],
   "source": [
    "session_begin = df.sort_index().groupby(['session_id'], sort=True, as_index=False).nth(0).drop('uuid',axis=1)\n",
    "session_begin.sort_values('session_id').head()"
   ]
  },
  {
   "cell_type": "markdown",
   "metadata": {
    "collapsed": false
   },
   "source": [
    "Now, I'm going to do a sanity check.  I am going to look at the session 0001382e027b2ea4 and make sure that the first timestamp is the same as the one above for the same session_id."
   ]
  },
  {
   "cell_type": "code",
   "execution_count": null,
   "metadata": {
    "collapsed": false
   },
   "outputs": [],
   "source": [
    "test_session = df[df.session_id == '0001382e027b2ea4'].sort_index().drop('uuid',axis=1)\n",
    "test_session.head()"
   ]
  },
  {
   "cell_type": "markdown",
   "metadata": {},
   "source": [
    "Our work passes the test!  In order to get the right answer for the last timestamp of each session, I had to drop the page_id column, I'm not 100% confident as to why this was necessary, but I think it has to do with the issues of NaNs."
   ]
  },
  {
   "cell_type": "code",
   "execution_count": null,
   "metadata": {
    "collapsed": false
   },
   "outputs": [],
   "source": [
    "df2 = df.drop(['uuid','page_id'], axis=1).sort_index()"
   ]
  },
  {
   "cell_type": "markdown",
   "metadata": {},
   "source": [
    "Now we do the same thing as previous for <code>session_begin</code>, but add take the <code>nth(-1)</code> instead of using <code>last()</code>"
   ]
  },
  {
   "cell_type": "code",
   "execution_count": null,
   "metadata": {
    "collapsed": false
   },
   "outputs": [],
   "source": [
    "session_end = df2.groupby(['session_id'],sort=True,as_index=False).nth(-1)\n",
    "session_end.sort_values('session_id').head()"
   ]
  },
  {
   "cell_type": "markdown",
   "metadata": {},
   "source": [
    "Now we prefrom another sanity check to make sure that the timestamp above for <code>session_id=0001382e027b2ea4</code> is the same as the last timestamp in the <code>test_session</code>:"
   ]
  },
  {
   "cell_type": "code",
   "execution_count": null,
   "metadata": {
    "collapsed": false
   },
   "outputs": [],
   "source": [
    "test_session.tail()"
   ]
  },
  {
   "cell_type": "markdown",
   "metadata": {},
   "source": [
    "It worked!  So, lets now get the the start time of each session by creating a new column in the <code>session_begin</code> that strips the time from the index of the old dataframe, but we want to convert the Pandas Timestamp to Python DateTime objects, so we use the <code>to_pydatetime()</code> to do so:"
   ]
  },
  {
   "cell_type": "code",
   "execution_count": null,
   "metadata": {
    "collapsed": false
   },
   "outputs": [],
   "source": [
    "session_begin['time'] = session_begin.index.to_pydatetime()"
   ]
  },
  {
   "cell_type": "markdown",
   "metadata": {},
   "source": [
    "Now we drop the timestamp as the index as well as the checkin column since that will be irrellevant and depends on the action."
   ]
  },
  {
   "cell_type": "code",
   "execution_count": null,
   "metadata": {
    "collapsed": false
   },
   "outputs": [],
   "source": [
    "session_begin = session_begin.reset_index().drop(['timestamp','checkin'],axis=1)\n",
    "session_begin.head()"
   ]
  },
  {
   "cell_type": "markdown",
   "metadata": {
    "collapsed": true
   },
   "source": [
    "Let's repeat the same process, but for <code>session_end</code>:"
   ]
  },
  {
   "cell_type": "code",
   "execution_count": null,
   "metadata": {
    "collapsed": false
   },
   "outputs": [],
   "source": [
    "session_end['time'] = session_end.index.to_pydatetime()\n",
    "session_end = session_end.reset_index().drop(['timestamp','checkin'],axis=1)\n",
    "session_end.head()"
   ]
  },
  {
   "cell_type": "code",
   "execution_count": null,
   "metadata": {
    "collapsed": false,
    "scrolled": true
   },
   "outputs": [],
   "source": [
    "df3 = pd.merge(session_begin, session_end, on='session_id',suffixes=('_start','_end'))\n",
    "df3.head()"
   ]
  },
  {
   "cell_type": "markdown",
   "metadata": {},
   "source": [
    "Get the time difference between the start and end times and then convert them integer values of the number of seconds."
   ]
  },
  {
   "cell_type": "code",
   "execution_count": null,
   "metadata": {
    "collapsed": false
   },
   "outputs": [],
   "source": [
    "temp_session_length = df3['time_end'] - df3['time_start']\n",
    "temp_session_length = temp_session_length.apply(lambda row: row.seconds)"
   ]
  },
  {
   "cell_type": "markdown",
   "metadata": {},
   "source": [
    "Now we try to bin the number of counts of the session length into different bins up until 20 minutes,"
   ]
  },
  {
   "cell_type": "code",
   "execution_count": null,
   "metadata": {
    "collapsed": false
   },
   "outputs": [],
   "source": [
    "bins = [0,10,30,60,90,120,150,180,210,240]\n",
    "time = 240\n",
    "for i in range(16):\n",
    "    time += 60\n",
    "    bins.append(time)\n",
    "\n",
    "top_session_lengths = temp_session_length.value_counts(bins=bins)"
   ]
  },
  {
   "cell_type": "markdown",
   "metadata": {},
   "source": [
    "Now let's plot the session lengths,"
   ]
  },
  {
   "cell_type": "code",
   "execution_count": null,
   "metadata": {
    "collapsed": false
   },
   "outputs": [],
   "source": [
    "top_session_lengths.sort_index().plot(kind='bar', \n",
    "                                      title='Frequency Of Session Lengths')\n",
    "plt.xlabel('Seconds')\n",
    "plt.ylabel('Frequency')"
   ]
  },
  {
   "cell_type": "markdown",
   "metadata": {},
   "source": [
    "We can see that most people, spend either 10 seconds in a session, which means they probably are not finding what they want. Then the next largest groups of people spend 30 seconds, 7 minutes and 0 seconds respectively.  Let's see if there is a difference between the session length and group."
   ]
  },
  {
   "cell_type": "code",
   "execution_count": null,
   "metadata": {
    "collapsed": true
   },
   "outputs": [],
   "source": [
    "df3['session_length'] = temp_session_length\n",
    "session_length_by_group = df3.groupby(['group_start'])['session_length'].value_counts(bins=bins)"
   ]
  },
  {
   "cell_type": "code",
   "execution_count": null,
   "metadata": {
    "collapsed": false
   },
   "outputs": [],
   "source": [
    "fig, ax = plt.subplots()\n",
    "rects1 = session_length_by_group['a'].sort_index().plot(kind='bar',\n",
    "                                                        color='b',\n",
    "                                                        label='Group a')\n",
    "rects2 = session_length_by_group['b'].sort_index().plot(kind='bar',\n",
    "                                                        color='r',\n",
    "                                                        label='Group b')\n",
    "plt.ylabel('Count Of Sessions')\n",
    "plt.xlabel('Session Length In Seconds')\n",
    "plt.title('Session Length Between The Groups')\n",
    "plt.legend()\n",
    "plt.show()"
   ]
  },
  {
   "cell_type": "code",
   "execution_count": null,
   "metadata": {
    "collapsed": false
   },
   "outputs": [],
   "source": []
  },
  {
   "cell_type": "code",
   "execution_count": null,
   "metadata": {
    "collapsed": false
   },
   "outputs": [],
   "source": []
  },
  {
   "cell_type": "code",
   "execution_count": null,
   "metadata": {
    "collapsed": true
   },
   "outputs": [],
   "source": []
  },
  {
   "cell_type": "code",
   "execution_count": null,
   "metadata": {
    "collapsed": true
   },
   "outputs": [],
   "source": []
  },
  {
   "cell_type": "markdown",
   "metadata": {},
   "source": []
  },
  {
   "cell_type": "code",
   "execution_count": null,
   "metadata": {
    "collapsed": true
   },
   "outputs": [],
   "source": []
  },
  {
   "cell_type": "code",
   "execution_count": null,
   "metadata": {
    "collapsed": false
   },
   "outputs": [],
   "source": []
  },
  {
   "cell_type": "markdown",
   "metadata": {
    "collapsed": false
   },
   "source": []
  },
  {
   "cell_type": "code",
   "execution_count": null,
   "metadata": {
    "collapsed": false
   },
   "outputs": [],
   "source": []
  },
  {
   "cell_type": "markdown",
   "metadata": {},
   "source": []
  },
  {
   "cell_type": "code",
   "execution_count": null,
   "metadata": {
    "collapsed": false
   },
   "outputs": [],
   "source": []
  },
  {
   "cell_type": "code",
   "execution_count": null,
   "metadata": {
    "collapsed": false
   },
   "outputs": [],
   "source": []
  },
  {
   "cell_type": "code",
   "execution_count": null,
   "metadata": {
    "collapsed": true
   },
   "outputs": [],
   "source": []
  }
 ],
 "metadata": {
  "anaconda-cloud": {},
  "kernelspec": {
   "display_name": "Python [conda root]",
   "language": "python",
   "name": "conda-root-py"
  },
  "language_info": {
   "codemirror_mode": {
    "name": "ipython",
    "version": 2
   },
   "file_extension": ".py",
   "mimetype": "text/x-python",
   "name": "python",
   "nbconvert_exporter": "python",
   "pygments_lexer": "ipython2",
   "version": "2.7.12"
  }
 },
 "nbformat": 4,
 "nbformat_minor": 1
}
